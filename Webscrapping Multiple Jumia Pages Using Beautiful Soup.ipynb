{
 "cells": [
  {
   "cell_type": "code",
   "execution_count": 1,
   "id": "93e5fc10",
   "metadata": {},
   "outputs": [],
   "source": [
    "#importing required libraries\n",
    "from bs4 import BeautifulSoup as bs\n",
    "import requests\n",
    "import numpy as np\n",
    "import pandas as pd\n",
    "import matplotlib.pyplot as plt\n",
    "%matplotlib inline"
   ]
  },
  {
   "cell_type": "code",
   "execution_count": 2,
   "id": "a7c92100",
   "metadata": {},
   "outputs": [
    {
     "name": "stdout",
     "output_type": "stream",
     "text": [
      "https://www.jumia.co.ke/smartphones/?shipped_from=country_local&page=1\n",
      "https://www.jumia.co.ke/smartphones/?shipped_from=country_local&page=2\n",
      "https://www.jumia.co.ke/smartphones/?shipped_from=country_local&page=3\n",
      "https://www.jumia.co.ke/smartphones/?shipped_from=country_local&page=4\n",
      "https://www.jumia.co.ke/smartphones/?shipped_from=country_local&page=5\n"
     ]
    }
   ],
   "source": [
    "#writing a function to get all the pages\n",
    "page=1\n",
    "while page!=6:\n",
    "    url=f\"https://www.jumia.co.ke/smartphones/?shipped_from=country_local&page={page}\"\n",
    "    print(url)\n",
    "    page=page+1"
   ]
  },
  {
   "cell_type": "code",
   "execution_count": 6,
   "id": "7ced41a9",
   "metadata": {},
   "outputs": [],
   "source": [
    "#since we are using beautiful soup, we will request the\n",
    "#soup file with html content\n",
    "#the jumia phones catalogue has 50 pages\n",
    "page=1\n",
    "#creating an empty list to contain the webscrapped data afterwards\n",
    "names=[]\n",
    "while page !=51:\n",
    "    url=f\"https://www.jumia.co.ke/smartphones/?shipped_from=country_local&page={page}\"\n",
    "    response=requests.get(url)\n",
    "    html=response.content\n",
    "    soup=bs(html,\"lxml\")\n",
    "    for h3 in soup.find_all(\"h3\",class_=\"name\"):\n",
    "        names.append(h3.get_text(strip=True))\n",
    "    page=page + 1"
   ]
  },
  {
   "cell_type": "code",
   "execution_count": 7,
   "id": "a176a6a1",
   "metadata": {},
   "outputs": [
    {
     "data": {
      "text/plain": [
       "2000"
      ]
     },
     "execution_count": 7,
     "metadata": {},
     "output_type": "execute_result"
    }
   ],
   "source": [
    "#let us get the length of names\n",
    "len(names)"
   ]
  },
  {
   "cell_type": "code",
   "execution_count": 8,
   "id": "bb38dd36",
   "metadata": {},
   "outputs": [
    {
     "data": {
      "text/plain": [
       "['XIAOMI Redmi A1+, 6.52\", 2GB+32GB, 8.0MP, 5000mAh, 4G , Dual SIM - Light Blue',\n",
       " 'XIAOMI Redmi 10A, 6.53\", 3GB+64GB, 13.0MP, 5000mAh, 4G LTE, Dual SIM - Graphite Grey',\n",
       " 'Infinix Smart 6, 6.6\", 2GB RAM, 32GB, 5000mAh,Polar Black',\n",
       " 'Oppo A16k, 6.52\", 32GB + 3GB RAM (Dual SIM), 4230mAh - Blue',\n",
       " 'XIAOMI Redmi 9A, 6.53\", 2GB+32GB, 13.0MP, 5000mAh, 4G LTE, Dual SIM - Grey',\n",
       " 'Samsung Galaxy A13, 6.6\", 128GB + 4GB RAM (Dual SIM), 5000mAh, Blue',\n",
       " 'XIAOMI Redmi 9A 6.53\", 2GB RAM+32GB, 5000mAh, Dual SIM, 4G LTE - Glacial Blue',\n",
       " 'Samsung Galaxy A13, 6.6\", 64GB + 4GB RAM (Dual SIM), 5000mAh, Black',\n",
       " \"XIAOMI Redmi 10C 6.71'', 4GB+128GB, 50MP+2MP Camera, 4G, Dual SIM - Mint Green\",\n",
       " \"XIAOMI Redmi 10C 6.71'', 4GB+64GB, 50MP+2MP Camera, 4G, 5000MAH Battery Dual SIM- Blue\"]"
      ]
     },
     "execution_count": 8,
     "metadata": {},
     "output_type": "execute_result"
    }
   ],
   "source": [
    "names[:10]"
   ]
  },
  {
   "cell_type": "code",
   "execution_count": 10,
   "id": "d6586260",
   "metadata": {},
   "outputs": [],
   "source": [
    "#let us make a data frame \n",
    "df=pd.DataFrame(names,columns=['Name'],dtype=object)"
   ]
  },
  {
   "cell_type": "code",
   "execution_count": 11,
   "id": "835a2824",
   "metadata": {},
   "outputs": [
    {
     "data": {
      "text/html": [
       "<div>\n",
       "<style scoped>\n",
       "    .dataframe tbody tr th:only-of-type {\n",
       "        vertical-align: middle;\n",
       "    }\n",
       "\n",
       "    .dataframe tbody tr th {\n",
       "        vertical-align: top;\n",
       "    }\n",
       "\n",
       "    .dataframe thead th {\n",
       "        text-align: right;\n",
       "    }\n",
       "</style>\n",
       "<table border=\"1\" class=\"dataframe\">\n",
       "  <thead>\n",
       "    <tr style=\"text-align: right;\">\n",
       "      <th></th>\n",
       "      <th>Name</th>\n",
       "    </tr>\n",
       "  </thead>\n",
       "  <tbody>\n",
       "    <tr>\n",
       "      <th>0</th>\n",
       "      <td>XIAOMI Redmi A1+, 6.52\", 2GB+32GB, 8.0MP, 5000...</td>\n",
       "    </tr>\n",
       "    <tr>\n",
       "      <th>1</th>\n",
       "      <td>XIAOMI Redmi 10A, 6.53\", 3GB+64GB, 13.0MP, 500...</td>\n",
       "    </tr>\n",
       "    <tr>\n",
       "      <th>2</th>\n",
       "      <td>Infinix Smart 6, 6.6\", 2GB RAM, 32GB, 5000mAh,...</td>\n",
       "    </tr>\n",
       "    <tr>\n",
       "      <th>3</th>\n",
       "      <td>Oppo A16k, 6.52\", 32GB + 3GB RAM (Dual SIM), 4...</td>\n",
       "    </tr>\n",
       "    <tr>\n",
       "      <th>4</th>\n",
       "      <td>XIAOMI Redmi 9A, 6.53\", 2GB+32GB, 13.0MP, 5000...</td>\n",
       "    </tr>\n",
       "  </tbody>\n",
       "</table>\n",
       "</div>"
      ],
      "text/plain": [
       "                                                Name\n",
       "0  XIAOMI Redmi A1+, 6.52\", 2GB+32GB, 8.0MP, 5000...\n",
       "1  XIAOMI Redmi 10A, 6.53\", 3GB+64GB, 13.0MP, 500...\n",
       "2  Infinix Smart 6, 6.6\", 2GB RAM, 32GB, 5000mAh,...\n",
       "3  Oppo A16k, 6.52\", 32GB + 3GB RAM (Dual SIM), 4...\n",
       "4  XIAOMI Redmi 9A, 6.53\", 2GB+32GB, 13.0MP, 5000..."
      ]
     },
     "execution_count": 11,
     "metadata": {},
     "output_type": "execute_result"
    }
   ],
   "source": [
    "df.head()"
   ]
  },
  {
   "cell_type": "code",
   "execution_count": 12,
   "id": "732b3143",
   "metadata": {},
   "outputs": [],
   "source": [
    "#using the same code above to obtain phone price\n",
    "page=1\n",
    "#creating an empty list to contain the webscrapped data afterwards\n",
    "price=[]\n",
    "while page !=51:\n",
    "    url=f\"https://www.jumia.co.ke/smartphones/?shipped_from=country_local&page={page}\"\n",
    "    response=requests.get(url)\n",
    "    html=response.content\n",
    "    soup=bs(html,\"lxml\")\n",
    "    for h3 in soup.find_all(\"div\",class_=\"prc\"):\n",
    "        price.append(h3.get_text(strip=True))\n",
    "    page=page + 1"
   ]
  },
  {
   "cell_type": "code",
   "execution_count": 13,
   "id": "a8b1dfe1",
   "metadata": {},
   "outputs": [
    {
     "data": {
      "text/plain": [
       "2000"
      ]
     },
     "execution_count": 13,
     "metadata": {},
     "output_type": "execute_result"
    }
   ],
   "source": [
    "len(price)"
   ]
  },
  {
   "cell_type": "code",
   "execution_count": 14,
   "id": "9b6b95b6",
   "metadata": {},
   "outputs": [
    {
     "data": {
      "text/plain": [
       "['KSh 10,200',\n",
       " 'KSh 13,499',\n",
       " 'KSh 9,999',\n",
       " 'KSh 12,699',\n",
       " 'KSh 9,999',\n",
       " 'KSh 22,499',\n",
       " 'KSh 9,999',\n",
       " 'KSh 19,399',\n",
       " 'KSh 18,499',\n",
       " 'KSh 16,299']"
      ]
     },
     "execution_count": 14,
     "metadata": {},
     "output_type": "execute_result"
    }
   ],
   "source": [
    "price[:10]"
   ]
  },
  {
   "cell_type": "code",
   "execution_count": 15,
   "id": "2e9fb1fb",
   "metadata": {},
   "outputs": [],
   "source": [
    "#what we realized from last time is that name and price have\n",
    "#empty strings, the solution is to get them at once\n",
    "#we will repeat the same function but get price and phone name together\n",
    "#using the same code above to obtain phone price\n",
    "page=1\n",
    "#creating an empty list to contain the webscrapped data afterwards\n",
    "phones=[]\n",
    "while page !=51:\n",
    "    url=f\"https://www.jumia.co.ke/smartphones/?shipped_from=country_local&page={page}\"\n",
    "    response=requests.get(url)\n",
    "    html=response.content\n",
    "    soup=bs(html,\"lxml\")\n",
    "    name=soup.find_all(\"h3\",class_=\"name\")\n",
    "    price=soup.find_all(\"div\",class_=\"prc\")\n",
    "    for i in range(len(name)):\n",
    "        phones.append([name[i].text,price[i].text])\n",
    "    page=page + 1\n"
   ]
  },
  {
   "cell_type": "code",
   "execution_count": 16,
   "id": "8c1940ee",
   "metadata": {},
   "outputs": [
    {
     "data": {
      "text/plain": [
       "2000"
      ]
     },
     "execution_count": 16,
     "metadata": {},
     "output_type": "execute_result"
    }
   ],
   "source": [
    "len(phones)"
   ]
  },
  {
   "cell_type": "code",
   "execution_count": 18,
   "id": "35e9bf47",
   "metadata": {},
   "outputs": [
    {
     "data": {
      "text/plain": [
       "[['XIAOMI Redmi A1+, 6.52\", 2GB+32GB, 8.0MP, 5000mAh, 4G , Dual SIM - Light Blue',\n",
       "  'KSh 10,200'],\n",
       " ['XIAOMI Redmi 10A, 6.53\", 3GB+64GB, 13.0MP, 5000mAh, 4G LTE, Dual SIM - Graphite Grey',\n",
       "  'KSh 13,499'],\n",
       " ['Infinix Smart 6, 6.6\", 2GB RAM, 32GB, 5000mAh,Polar Black', 'KSh 9,999'],\n",
       " ['Oppo A16k, 6.52\", 32GB + 3GB RAM (Dual SIM), 4230mAh - Blue', 'KSh 12,699'],\n",
       " ['XIAOMI Redmi 9A, 6.53\", 2GB+32GB, 13.0MP, 5000mAh, 4G LTE, Dual SIM - Grey',\n",
       "  'KSh 9,999'],\n",
       " ['Samsung Galaxy A13, 6.6\", 128GB + 4GB RAM (Dual SIM), 5000mAh, Blue',\n",
       "  'KSh 22,499'],\n",
       " ['XIAOMI Redmi 9A 6.53\", 2GB RAM+32GB, 5000mAh, Dual SIM, 4G LTE - Glacial Blue',\n",
       "  'KSh 9,999'],\n",
       " ['Samsung Galaxy A13, 6.6\", 64GB + 4GB RAM (Dual SIM), 5000mAh, Black',\n",
       "  'KSh 19,399'],\n",
       " [\"XIAOMI Redmi 10C 6.71'', 4GB+128GB, 50MP+2MP Camera, 4G, Dual SIM - Mint Green\",\n",
       "  'KSh 18,499'],\n",
       " [\"XIAOMI Redmi 10C 6.71'', 4GB+64GB, 50MP+2MP Camera, 4G, 5000MAH Battery Dual SIM- Blue\",\n",
       "  'KSh 16,299']]"
      ]
     },
     "execution_count": 18,
     "metadata": {},
     "output_type": "execute_result"
    }
   ],
   "source": [
    "phones[:10]"
   ]
  },
  {
   "cell_type": "code",
   "execution_count": null,
   "id": "4818e02b",
   "metadata": {},
   "outputs": [],
   "source": [
    "#converting the phones list to a data frame\n",
    "df=pd.DataFrame(phones,columns=['Name','Price'],\n",
    "               dtype=float)"
   ]
  },
  {
   "cell_type": "code",
   "execution_count": 19,
   "id": "af95c27f",
   "metadata": {},
   "outputs": [
    {
     "data": {
      "text/html": [
       "<div>\n",
       "<style scoped>\n",
       "    .dataframe tbody tr th:only-of-type {\n",
       "        vertical-align: middle;\n",
       "    }\n",
       "\n",
       "    .dataframe tbody tr th {\n",
       "        vertical-align: top;\n",
       "    }\n",
       "\n",
       "    .dataframe thead th {\n",
       "        text-align: right;\n",
       "    }\n",
       "</style>\n",
       "<table border=\"1\" class=\"dataframe\">\n",
       "  <thead>\n",
       "    <tr style=\"text-align: right;\">\n",
       "      <th></th>\n",
       "      <th>Name</th>\n",
       "    </tr>\n",
       "  </thead>\n",
       "  <tbody>\n",
       "    <tr>\n",
       "      <th>0</th>\n",
       "      <td>XIAOMI Redmi A1+, 6.52\", 2GB+32GB, 8.0MP, 5000...</td>\n",
       "    </tr>\n",
       "    <tr>\n",
       "      <th>1</th>\n",
       "      <td>XIAOMI Redmi 10A, 6.53\", 3GB+64GB, 13.0MP, 500...</td>\n",
       "    </tr>\n",
       "    <tr>\n",
       "      <th>2</th>\n",
       "      <td>Infinix Smart 6, 6.6\", 2GB RAM, 32GB, 5000mAh,...</td>\n",
       "    </tr>\n",
       "    <tr>\n",
       "      <th>3</th>\n",
       "      <td>Oppo A16k, 6.52\", 32GB + 3GB RAM (Dual SIM), 4...</td>\n",
       "    </tr>\n",
       "    <tr>\n",
       "      <th>4</th>\n",
       "      <td>XIAOMI Redmi 9A, 6.53\", 2GB+32GB, 13.0MP, 5000...</td>\n",
       "    </tr>\n",
       "  </tbody>\n",
       "</table>\n",
       "</div>"
      ],
      "text/plain": [
       "                                                Name\n",
       "0  XIAOMI Redmi A1+, 6.52\", 2GB+32GB, 8.0MP, 5000...\n",
       "1  XIAOMI Redmi 10A, 6.53\", 3GB+64GB, 13.0MP, 500...\n",
       "2  Infinix Smart 6, 6.6\", 2GB RAM, 32GB, 5000mAh,...\n",
       "3  Oppo A16k, 6.52\", 32GB + 3GB RAM (Dual SIM), 4...\n",
       "4  XIAOMI Redmi 9A, 6.53\", 2GB+32GB, 13.0MP, 5000..."
      ]
     },
     "execution_count": 19,
     "metadata": {},
     "output_type": "execute_result"
    }
   ],
   "source": [
    "df.head()"
   ]
  },
  {
   "cell_type": "code",
   "execution_count": 20,
   "id": "c25f2130",
   "metadata": {},
   "outputs": [],
   "source": [
    "#making a csv file to be cleaned\n",
    "df.to_csv(\"Jumia Phones Data v5.csv\",index=False)"
   ]
  },
  {
   "cell_type": "code",
   "execution_count": null,
   "id": "b3423672",
   "metadata": {},
   "outputs": [],
   "source": []
  }
 ],
 "metadata": {
  "kernelspec": {
   "display_name": "Python 3",
   "language": "python",
   "name": "python3"
  },
  "language_info": {
   "codemirror_mode": {
    "name": "ipython",
    "version": 3
   },
   "file_extension": ".py",
   "mimetype": "text/x-python",
   "name": "python",
   "nbconvert_exporter": "python",
   "pygments_lexer": "ipython3",
   "version": "3.8.8"
  }
 },
 "nbformat": 4,
 "nbformat_minor": 5
}
