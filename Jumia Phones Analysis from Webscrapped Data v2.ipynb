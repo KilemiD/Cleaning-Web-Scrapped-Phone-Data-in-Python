{
 "cells": [
  {
   "cell_type": "code",
   "execution_count": 1,
   "id": "52265c74",
   "metadata": {},
   "outputs": [],
   "source": [
    "# importing required libraries\n",
    "import pandas as pd\n",
    "import numpy as np\n",
    "import matplotlib.pyplot as plt\n",
    "import seaborn as sns\n",
    "import re\n",
    "\n",
    "%matplotlib inline"
   ]
  },
  {
   "cell_type": "code",
   "execution_count": 2,
   "id": "17fb34b4",
   "metadata": {},
   "outputs": [],
   "source": [
    "#importing data\n",
    "df=pd.read_csv(\"Jumia Phones Full Data3.csv\")"
   ]
  },
  {
   "cell_type": "code",
   "execution_count": 3,
   "id": "28bee1ad",
   "metadata": {},
   "outputs": [
    {
     "data": {
      "text/html": [
       "<div>\n",
       "<style scoped>\n",
       "    .dataframe tbody tr th:only-of-type {\n",
       "        vertical-align: middle;\n",
       "    }\n",
       "\n",
       "    .dataframe tbody tr th {\n",
       "        vertical-align: top;\n",
       "    }\n",
       "\n",
       "    .dataframe thead th {\n",
       "        text-align: right;\n",
       "    }\n",
       "</style>\n",
       "<table border=\"1\" class=\"dataframe\">\n",
       "  <thead>\n",
       "    <tr style=\"text-align: right;\">\n",
       "      <th></th>\n",
       "      <th>Name</th>\n",
       "      <th>Price</th>\n",
       "    </tr>\n",
       "  </thead>\n",
       "  <tbody>\n",
       "    <tr>\n",
       "      <th>0</th>\n",
       "      <td>Infinix Smart 6, 6.6\", 2GB RAM, 32GB, 5000mAh,...</td>\n",
       "      <td>KSh 9,999</td>\n",
       "    </tr>\n",
       "    <tr>\n",
       "      <th>1</th>\n",
       "      <td>XIAOMI Redmi A1+, 6.52\", 2GB+32GB, 8.0MP, 5000...</td>\n",
       "      <td>KSh 8,999</td>\n",
       "    </tr>\n",
       "    <tr>\n",
       "      <th>2</th>\n",
       "      <td>XIAOMI Redmi 10A, 6.53\", 3GB+64GB, 13.0MP, 500...</td>\n",
       "      <td>KSh 12,999</td>\n",
       "    </tr>\n",
       "    <tr>\n",
       "      <th>3</th>\n",
       "      <td>Infinix Smart 6, 6.6\", 32GB + 2GB RAM (Dual SI...</td>\n",
       "      <td>KSh 9,799</td>\n",
       "    </tr>\n",
       "    <tr>\n",
       "      <th>4</th>\n",
       "      <td>Tecno Spark 8P, 6.6\", 64GB + 4GB RAM (Dual SIM...</td>\n",
       "      <td>KSh 13,830</td>\n",
       "    </tr>\n",
       "  </tbody>\n",
       "</table>\n",
       "</div>"
      ],
      "text/plain": [
       "                                                Name       Price\n",
       "0  Infinix Smart 6, 6.6\", 2GB RAM, 32GB, 5000mAh,...   KSh 9,999\n",
       "1  XIAOMI Redmi A1+, 6.52\", 2GB+32GB, 8.0MP, 5000...   KSh 8,999\n",
       "2  XIAOMI Redmi 10A, 6.53\", 3GB+64GB, 13.0MP, 500...  KSh 12,999\n",
       "3  Infinix Smart 6, 6.6\", 32GB + 2GB RAM (Dual SI...   KSh 9,799\n",
       "4  Tecno Spark 8P, 6.6\", 64GB + 4GB RAM (Dual SIM...  KSh 13,830"
      ]
     },
     "execution_count": 3,
     "metadata": {},
     "output_type": "execute_result"
    }
   ],
   "source": [
    "#data assessment, cleaning, understanding the data\n",
    "df.head()"
   ]
  },
  {
   "cell_type": "code",
   "execution_count": 4,
   "id": "204b77ba",
   "metadata": {},
   "outputs": [
    {
     "data": {
      "text/html": [
       "<div>\n",
       "<style scoped>\n",
       "    .dataframe tbody tr th:only-of-type {\n",
       "        vertical-align: middle;\n",
       "    }\n",
       "\n",
       "    .dataframe tbody tr th {\n",
       "        vertical-align: top;\n",
       "    }\n",
       "\n",
       "    .dataframe thead th {\n",
       "        text-align: right;\n",
       "    }\n",
       "</style>\n",
       "<table border=\"1\" class=\"dataframe\">\n",
       "  <thead>\n",
       "    <tr style=\"text-align: right;\">\n",
       "      <th></th>\n",
       "      <th>Name</th>\n",
       "      <th>Price</th>\n",
       "    </tr>\n",
       "  </thead>\n",
       "  <tbody>\n",
       "    <tr>\n",
       "      <th>1995</th>\n",
       "      <td>Samsung Galaxy A03 Core //Disp 6.5\" //32GB+2GB...</td>\n",
       "      <td>KSh 11,799</td>\n",
       "    </tr>\n",
       "    <tr>\n",
       "      <th>1996</th>\n",
       "      <td>Itel A33 Plus  5\" 1 + 16GB, Fingerprint, Face ...</td>\n",
       "      <td>KSh 6,999</td>\n",
       "    </tr>\n",
       "    <tr>\n",
       "      <th>1997</th>\n",
       "      <td>Tecno CAMON 18i, 6.6\", [ 4GB RAM + 128GB ROM ]...</td>\n",
       "      <td>KSh 20,862</td>\n",
       "    </tr>\n",
       "    <tr>\n",
       "      <th>1998</th>\n",
       "      <td>Samsung Galaxy M52 5G, 6.7\", 6GB RAM + 128GB (...</td>\n",
       "      <td>KSh 37,499</td>\n",
       "    </tr>\n",
       "    <tr>\n",
       "      <th>1999</th>\n",
       "      <td>Infinix Smart 6 Plus 6.6\", 2GB RAM + 32GB ROM,...</td>\n",
       "      <td>KSh 12,699</td>\n",
       "    </tr>\n",
       "  </tbody>\n",
       "</table>\n",
       "</div>"
      ],
      "text/plain": [
       "                                                   Name       Price\n",
       "1995  Samsung Galaxy A03 Core //Disp 6.5\" //32GB+2GB...  KSh 11,799\n",
       "1996  Itel A33 Plus  5\" 1 + 16GB, Fingerprint, Face ...   KSh 6,999\n",
       "1997  Tecno CAMON 18i, 6.6\", [ 4GB RAM + 128GB ROM ]...  KSh 20,862\n",
       "1998  Samsung Galaxy M52 5G, 6.7\", 6GB RAM + 128GB (...  KSh 37,499\n",
       "1999  Infinix Smart 6 Plus 6.6\", 2GB RAM + 32GB ROM,...  KSh 12,699"
      ]
     },
     "execution_count": 4,
     "metadata": {},
     "output_type": "execute_result"
    }
   ],
   "source": [
    "df.tail()"
   ]
  },
  {
   "cell_type": "code",
   "execution_count": 5,
   "id": "643ffaae",
   "metadata": {},
   "outputs": [
    {
     "data": {
      "text/plain": [
       "Name     object\n",
       "Price    object\n",
       "dtype: object"
      ]
     },
     "execution_count": 5,
     "metadata": {},
     "output_type": "execute_result"
    }
   ],
   "source": [
    "df.dtypes"
   ]
  },
  {
   "cell_type": "code",
   "execution_count": 6,
   "id": "03ea2fcb",
   "metadata": {},
   "outputs": [
    {
     "data": {
      "text/plain": [
       "(2000, 2)"
      ]
     },
     "execution_count": 6,
     "metadata": {},
     "output_type": "execute_result"
    }
   ],
   "source": [
    "df.shape"
   ]
  },
  {
   "cell_type": "code",
   "execution_count": 7,
   "id": "1e36d99f",
   "metadata": {},
   "outputs": [
    {
     "data": {
      "text/plain": [
       "Name     0\n",
       "Price    0\n",
       "dtype: int64"
      ]
     },
     "execution_count": 7,
     "metadata": {},
     "output_type": "execute_result"
    }
   ],
   "source": [
    "#checking for missing observations\n",
    "df.isna().sum()"
   ]
  },
  {
   "cell_type": "code",
   "execution_count": 8,
   "id": "3516e579",
   "metadata": {},
   "outputs": [
    {
     "data": {
      "text/plain": [
       "24"
      ]
     },
     "execution_count": 8,
     "metadata": {},
     "output_type": "execute_result"
    }
   ],
   "source": [
    "#checking duplicates\n",
    "df.duplicated().sum()"
   ]
  },
  {
   "cell_type": "code",
   "execution_count": 9,
   "id": "8012b39a",
   "metadata": {},
   "outputs": [
    {
     "name": "stdout",
     "output_type": "stream",
     "text": [
      "<class 'pandas.core.frame.DataFrame'>\n",
      "RangeIndex: 2000 entries, 0 to 1999\n",
      "Data columns (total 2 columns):\n",
      " #   Column  Non-Null Count  Dtype \n",
      "---  ------  --------------  ----- \n",
      " 0   Name    2000 non-null   object\n",
      " 1   Price   2000 non-null   object\n",
      "dtypes: object(2)\n",
      "memory usage: 31.4+ KB\n"
     ]
    }
   ],
   "source": [
    "df.info()"
   ]
  },
  {
   "cell_type": "code",
   "execution_count": 10,
   "id": "ce0648e7",
   "metadata": {},
   "outputs": [
    {
     "data": {
      "text/html": [
       "<div>\n",
       "<style scoped>\n",
       "    .dataframe tbody tr th:only-of-type {\n",
       "        vertical-align: middle;\n",
       "    }\n",
       "\n",
       "    .dataframe tbody tr th {\n",
       "        vertical-align: top;\n",
       "    }\n",
       "\n",
       "    .dataframe thead th {\n",
       "        text-align: right;\n",
       "    }\n",
       "</style>\n",
       "<table border=\"1\" class=\"dataframe\">\n",
       "  <thead>\n",
       "    <tr style=\"text-align: right;\">\n",
       "      <th></th>\n",
       "      <th>Name</th>\n",
       "      <th>Price</th>\n",
       "    </tr>\n",
       "  </thead>\n",
       "  <tbody>\n",
       "    <tr>\n",
       "      <th>1750</th>\n",
       "      <td>XIAOMI Redmi 10A, 6.53\", 3GB + 64GB, 13MP, 500...</td>\n",
       "      <td>KSh 15,299</td>\n",
       "    </tr>\n",
       "    <tr>\n",
       "      <th>1581</th>\n",
       "      <td>Itel 5626 2.8\" Display –Camera --- 2500mAh -Tr...</td>\n",
       "      <td>KSh 2,560</td>\n",
       "    </tr>\n",
       "    <tr>\n",
       "      <th>983</th>\n",
       "      <td>Realme C21Y, 6.5\", 4GB RAM+64GB (Dual SIM), 50...</td>\n",
       "      <td>KSh 16,299</td>\n",
       "    </tr>\n",
       "    <tr>\n",
       "      <th>512</th>\n",
       "      <td>Bontel 3310,1.77\" Display,fm Radio,mp3,mp4 Sup...</td>\n",
       "      <td>KSh 1,180</td>\n",
       "    </tr>\n",
       "    <tr>\n",
       "      <th>290</th>\n",
       "      <td>Tecno Spark 9T, 6.6\", 128GB + 4GB RAM (Dual SI...</td>\n",
       "      <td>KSh 19,949</td>\n",
       "    </tr>\n",
       "  </tbody>\n",
       "</table>\n",
       "</div>"
      ],
      "text/plain": [
       "                                                   Name       Price\n",
       "1750  XIAOMI Redmi 10A, 6.53\", 3GB + 64GB, 13MP, 500...  KSh 15,299\n",
       "1581  Itel 5626 2.8\" Display –Camera --- 2500mAh -Tr...   KSh 2,560\n",
       "983   Realme C21Y, 6.5\", 4GB RAM+64GB (Dual SIM), 50...  KSh 16,299\n",
       "512   Bontel 3310,1.77\" Display,fm Radio,mp3,mp4 Sup...   KSh 1,180\n",
       "290   Tecno Spark 9T, 6.6\", 128GB + 4GB RAM (Dual SI...  KSh 19,949"
      ]
     },
     "execution_count": 10,
     "metadata": {},
     "output_type": "execute_result"
    }
   ],
   "source": [
    "df.sample(5)"
   ]
  },
  {
   "cell_type": "code",
   "execution_count": 11,
   "id": "0eff03a8",
   "metadata": {},
   "outputs": [],
   "source": [
    "#are there issues observed?\n",
    "#duplicate entries\n",
    "#erroneous data types such as object for numbers\n",
    "#irrelevant data, non-phone information\n",
    "#maybe a rating column should be present"
   ]
  },
  {
   "cell_type": "code",
   "execution_count": 12,
   "id": "d06104dc",
   "metadata": {},
   "outputs": [],
   "source": [
    "#data cleaning\n",
    "import copy\n",
    "jumia=df.copy() #making a copy of the data frame"
   ]
  },
  {
   "cell_type": "code",
   "execution_count": 13,
   "id": "c4dabfd0",
   "metadata": {},
   "outputs": [],
   "source": [
    "jumia.drop_duplicates(inplace=True)"
   ]
  },
  {
   "cell_type": "code",
   "execution_count": 14,
   "id": "1b871ea7",
   "metadata": {},
   "outputs": [
    {
     "data": {
      "text/plain": [
       "0"
      ]
     },
     "execution_count": 14,
     "metadata": {},
     "output_type": "execute_result"
    }
   ],
   "source": [
    "jumia.duplicated().sum()"
   ]
  },
  {
   "cell_type": "code",
   "execution_count": 15,
   "id": "35b180fb",
   "metadata": {},
   "outputs": [
    {
     "data": {
      "text/plain": [
       "(1976, 2)"
      ]
     },
     "execution_count": 15,
     "metadata": {},
     "output_type": "execute_result"
    }
   ],
   "source": [
    "jumia.shape"
   ]
  },
  {
   "cell_type": "code",
   "execution_count": 16,
   "id": "b1ac21da",
   "metadata": {},
   "outputs": [
    {
     "data": {
      "text/html": [
       "<div>\n",
       "<style scoped>\n",
       "    .dataframe tbody tr th:only-of-type {\n",
       "        vertical-align: middle;\n",
       "    }\n",
       "\n",
       "    .dataframe tbody tr th {\n",
       "        vertical-align: top;\n",
       "    }\n",
       "\n",
       "    .dataframe thead th {\n",
       "        text-align: right;\n",
       "    }\n",
       "</style>\n",
       "<table border=\"1\" class=\"dataframe\">\n",
       "  <thead>\n",
       "    <tr style=\"text-align: right;\">\n",
       "      <th></th>\n",
       "      <th>Name</th>\n",
       "      <th>Price</th>\n",
       "    </tr>\n",
       "  </thead>\n",
       "  <tbody>\n",
       "    <tr>\n",
       "      <th>0</th>\n",
       "      <td>Infinix Smart 6, 6.6\", 2GB RAM, 32GB, 5000mAh,...</td>\n",
       "      <td>9999</td>\n",
       "    </tr>\n",
       "    <tr>\n",
       "      <th>1</th>\n",
       "      <td>XIAOMI Redmi A1+, 6.52\", 2GB+32GB, 8.0MP, 5000...</td>\n",
       "      <td>8999</td>\n",
       "    </tr>\n",
       "    <tr>\n",
       "      <th>2</th>\n",
       "      <td>XIAOMI Redmi 10A, 6.53\", 3GB+64GB, 13.0MP, 500...</td>\n",
       "      <td>12999</td>\n",
       "    </tr>\n",
       "    <tr>\n",
       "      <th>3</th>\n",
       "      <td>Infinix Smart 6, 6.6\", 32GB + 2GB RAM (Dual SI...</td>\n",
       "      <td>9799</td>\n",
       "    </tr>\n",
       "    <tr>\n",
       "      <th>4</th>\n",
       "      <td>Tecno Spark 8P, 6.6\", 64GB + 4GB RAM (Dual SIM...</td>\n",
       "      <td>13830</td>\n",
       "    </tr>\n",
       "  </tbody>\n",
       "</table>\n",
       "</div>"
      ],
      "text/plain": [
       "                                                Name  Price\n",
       "0  Infinix Smart 6, 6.6\", 2GB RAM, 32GB, 5000mAh,...   9999\n",
       "1  XIAOMI Redmi A1+, 6.52\", 2GB+32GB, 8.0MP, 5000...   8999\n",
       "2  XIAOMI Redmi 10A, 6.53\", 3GB+64GB, 13.0MP, 500...  12999\n",
       "3  Infinix Smart 6, 6.6\", 32GB + 2GB RAM (Dual SI...   9799\n",
       "4  Tecno Spark 8P, 6.6\", 64GB + 4GB RAM (Dual SIM...  13830"
      ]
     },
     "execution_count": 16,
     "metadata": {},
     "output_type": "execute_result"
    }
   ],
   "source": [
    "#converting price column to integer\n",
    "jumia['Price']=jumia['Price'].str[4:]\n",
    "jumia['Price']=jumia['Price'].str.replace(',','')\n",
    "jumia.head()"
   ]
  },
  {
   "cell_type": "code",
   "execution_count": 17,
   "id": "1d79b8d3",
   "metadata": {},
   "outputs": [
    {
     "data": {
      "text/plain": [
       "dtype('int32')"
      ]
     },
     "execution_count": 17,
     "metadata": {},
     "output_type": "execute_result"
    }
   ],
   "source": [
    "jumia['Price']=jumia['Price'].astype(int)\n",
    "jumia['Price'].dtype"
   ]
  },
  {
   "cell_type": "code",
   "execution_count": 18,
   "id": "ff947782",
   "metadata": {},
   "outputs": [
    {
     "data": {
      "text/html": [
       "<div>\n",
       "<style scoped>\n",
       "    .dataframe tbody tr th:only-of-type {\n",
       "        vertical-align: middle;\n",
       "    }\n",
       "\n",
       "    .dataframe tbody tr th {\n",
       "        vertical-align: top;\n",
       "    }\n",
       "\n",
       "    .dataframe thead th {\n",
       "        text-align: right;\n",
       "    }\n",
       "</style>\n",
       "<table border=\"1\" class=\"dataframe\">\n",
       "  <thead>\n",
       "    <tr style=\"text-align: right;\">\n",
       "      <th></th>\n",
       "      <th>Name</th>\n",
       "      <th>Price</th>\n",
       "    </tr>\n",
       "  </thead>\n",
       "  <tbody>\n",
       "    <tr>\n",
       "      <th>206</th>\n",
       "      <td>Generic Bhawsar Jakhme Pink Ruz Ointment- 100%...</td>\n",
       "      <td>854</td>\n",
       "    </tr>\n",
       "    <tr>\n",
       "      <th>676</th>\n",
       "      <td>Itel 5615  - 2.4\" Display- 2500mAh -Triple Sim...</td>\n",
       "      <td>2150</td>\n",
       "    </tr>\n",
       "    <tr>\n",
       "      <th>1171</th>\n",
       "      <td>Nokia X10, 6.67\", [6GB + 128GB], DUAL SIM, 48M...</td>\n",
       "      <td>21699</td>\n",
       "    </tr>\n",
       "    <tr>\n",
       "      <th>1803</th>\n",
       "      <td>Huawei P20 Lite 5.8 Inch Display, 16 MP, DUAL-...</td>\n",
       "      <td>17499</td>\n",
       "    </tr>\n",
       "    <tr>\n",
       "      <th>330</th>\n",
       "      <td>Realme C30s, 6.5\", 32GB + 2GB RAM, (Dual SIM),...</td>\n",
       "      <td>12349</td>\n",
       "    </tr>\n",
       "  </tbody>\n",
       "</table>\n",
       "</div>"
      ],
      "text/plain": [
       "                                                   Name  Price\n",
       "206   Generic Bhawsar Jakhme Pink Ruz Ointment- 100%...    854\n",
       "676   Itel 5615  - 2.4\" Display- 2500mAh -Triple Sim...   2150\n",
       "1171  Nokia X10, 6.67\", [6GB + 128GB], DUAL SIM, 48M...  21699\n",
       "1803  Huawei P20 Lite 5.8 Inch Display, 16 MP, DUAL-...  17499\n",
       "330   Realme C30s, 6.5\", 32GB + 2GB RAM, (Dual SIM),...  12349"
      ]
     },
     "execution_count": 18,
     "metadata": {},
     "output_type": "execute_result"
    }
   ],
   "source": [
    "jumia.sample(5)"
   ]
  },
  {
   "cell_type": "code",
   "execution_count": 19,
   "id": "684d1b9e",
   "metadata": {},
   "outputs": [
    {
     "data": {
      "text/plain": [
       "(1976, 2)"
      ]
     },
     "execution_count": 19,
     "metadata": {},
     "output_type": "execute_result"
    }
   ],
   "source": [
    "jumia.shape"
   ]
  },
  {
   "cell_type": "code",
   "execution_count": 20,
   "id": "2abd8d3d",
   "metadata": {},
   "outputs": [
    {
     "name": "stdout",
     "output_type": "stream",
     "text": [
      "                                                   Name  Price\n",
      "28    X Tigi V8 Max - 3.5'' - Dual SIM -  ROM 8GB - ...   3599\n",
      "32    X Tigi S23 Mini - 1.77'' - Big Torch - Big Spe...   1349\n",
      "36    X Tigi S23 Mini - 1.77'' - Big Torch - Big Spe...   1349\n",
      "47    Samsung Guru Music 2 (SM-B310E)  - Dual SIM - ...   2659\n",
      "51    Itel It 2160, 1.77'' Blue, Fm Radio,1000 MAh,D...   1299\n",
      "...                                                 ...    ...\n",
      "1979  SQ LS 820 -Fixed Wireless Desktop Telephone (D...   3899\n",
      "1981  Sowhat S12 5.72 INCH SCREEN,4000MAH BATTERY,8 ...   5300\n",
      "1985  Itel 5081-2.40 \", Triple Sim, Button Phone,(12...   2299\n",
      "1987  Itel It 2160 - 1000mAH, (Dual SIM),TORCH, FM R...   1390\n",
      "1991  X Tigi S23 Mini//Torch ,,,Speaker,,FM Radio,,B...   1550\n",
      "\n",
      "[487 rows x 2 columns]\n"
     ]
    }
   ],
   "source": [
    "#indexing rows where the price is less than 6300 to spot accesories\n",
    "print(jumia[jumia.Price<=6300])"
   ]
  },
  {
   "cell_type": "code",
   "execution_count": 21,
   "id": "c0bd7888",
   "metadata": {},
   "outputs": [],
   "source": [
    "#removing what is not a phone\n",
    "jumia=jumia[~(jumia['Price']<6300)]"
   ]
  },
  {
   "cell_type": "code",
   "execution_count": 22,
   "id": "21ab5b39",
   "metadata": {},
   "outputs": [
    {
     "data": {
      "text/plain": [
       "(1489, 2)"
      ]
     },
     "execution_count": 22,
     "metadata": {},
     "output_type": "execute_result"
    }
   ],
   "source": [
    "jumia.shape"
   ]
  },
  {
   "cell_type": "code",
   "execution_count": 23,
   "id": "c346a06c",
   "metadata": {},
   "outputs": [],
   "source": [
    "jumia.to_csv(\"Jumia Phones Clean Data.csv\",index=False)"
   ]
  },
  {
   "cell_type": "code",
   "execution_count": 24,
   "id": "6d0bb20f",
   "metadata": {},
   "outputs": [],
   "source": [
    "#data preprocessing and feature extraction\n",
    "from nltk.tokenize import word_tokenize #to create word tokens"
   ]
  },
  {
   "cell_type": "code",
   "execution_count": 25,
   "id": "4924ab4b",
   "metadata": {},
   "outputs": [],
   "source": [
    "#defining function to extract phone name\n",
    "phone_brands=['infinix','xiaomi','tecno','samsung','oppo','apple',\n",
    "             'blackview','vivo','huawei','itel','realme','nokia',\n",
    "             'x tigi','poco','one plus']\n",
    "def getbrand(name):\n",
    "    name=name.lower() #converting to lower case\n",
    "    word_tokens=word_tokenize(name) #splits each word in name\n",
    "    brand=[char for char in word_tokens if char in phone_brands]\n",
    "    return ''.join(brand)"
   ]
  },
  {
   "cell_type": "code",
   "execution_count": null,
   "id": "f1f93136",
   "metadata": {},
   "outputs": [],
   "source": [
    "#defining function to extract phone name\n",
    "#phone_brands=['1gb','2gb','4gb','6gb','3gb','8gb','12gb']\n",
    "#def getbrand(name):\n",
    "#    name=name.lower() #converting to lower case\n",
    "#    word_tokens=word_tokenize(name) #splits each word in name\n",
    "#    brand=[char for char in word_tokens if char in phone_brands]\n",
    "#    return ''.join(brand)"
   ]
  },
  {
   "cell_type": "code",
   "execution_count": 26,
   "id": "f20099f2",
   "metadata": {},
   "outputs": [],
   "source": [
    "import nltk\n",
    "#nltk.download('punkt')"
   ]
  },
  {
   "cell_type": "code",
   "execution_count": 27,
   "id": "a3571622",
   "metadata": {},
   "outputs": [],
   "source": [
    "jumia['brand']=jumia['Name'].apply(getbrand)"
   ]
  },
  {
   "cell_type": "code",
   "execution_count": 28,
   "id": "8a8bdc37",
   "metadata": {},
   "outputs": [
    {
     "data": {
      "text/html": [
       "<div>\n",
       "<style scoped>\n",
       "    .dataframe tbody tr th:only-of-type {\n",
       "        vertical-align: middle;\n",
       "    }\n",
       "\n",
       "    .dataframe tbody tr th {\n",
       "        vertical-align: top;\n",
       "    }\n",
       "\n",
       "    .dataframe thead th {\n",
       "        text-align: right;\n",
       "    }\n",
       "</style>\n",
       "<table border=\"1\" class=\"dataframe\">\n",
       "  <thead>\n",
       "    <tr style=\"text-align: right;\">\n",
       "      <th></th>\n",
       "      <th>Name</th>\n",
       "      <th>Price</th>\n",
       "      <th>brand</th>\n",
       "    </tr>\n",
       "  </thead>\n",
       "  <tbody>\n",
       "    <tr>\n",
       "      <th>1634</th>\n",
       "      <td>Realme C30s, 6.5\", 64GB + 4GB, 8MP (Dual SIM) ...</td>\n",
       "      <td>15000</td>\n",
       "      <td>realme</td>\n",
       "    </tr>\n",
       "    <tr>\n",
       "      <th>1647</th>\n",
       "      <td>Samsung Galaxy M32- 6.4\",128GB ROM+6GB RAM (Du...</td>\n",
       "      <td>24999</td>\n",
       "      <td>samsung</td>\n",
       "    </tr>\n",
       "  </tbody>\n",
       "</table>\n",
       "</div>"
      ],
      "text/plain": [
       "                                                   Name  Price    brand\n",
       "1634  Realme C30s, 6.5\", 64GB + 4GB, 8MP (Dual SIM) ...  15000   realme\n",
       "1647  Samsung Galaxy M32- 6.4\",128GB ROM+6GB RAM (Du...  24999  samsung"
      ]
     },
     "execution_count": 28,
     "metadata": {},
     "output_type": "execute_result"
    }
   ],
   "source": [
    "jumia.sample(2)"
   ]
  },
  {
   "cell_type": "code",
   "execution_count": 29,
   "id": "cc949d54",
   "metadata": {},
   "outputs": [
    {
     "data": {
      "text/plain": [
       "Name     0\n",
       "Price    0\n",
       "brand    0\n",
       "dtype: int64"
      ]
     },
     "execution_count": 29,
     "metadata": {},
     "output_type": "execute_result"
    }
   ],
   "source": [
    "jumia.isna().sum()"
   ]
  },
  {
   "cell_type": "code",
   "execution_count": 30,
   "id": "cdbef87a",
   "metadata": {},
   "outputs": [
    {
     "data": {
      "text/html": [
       "<div>\n",
       "<style scoped>\n",
       "    .dataframe tbody tr th:only-of-type {\n",
       "        vertical-align: middle;\n",
       "    }\n",
       "\n",
       "    .dataframe tbody tr th {\n",
       "        vertical-align: top;\n",
       "    }\n",
       "\n",
       "    .dataframe thead th {\n",
       "        text-align: right;\n",
       "    }\n",
       "</style>\n",
       "<table border=\"1\" class=\"dataframe\">\n",
       "  <thead>\n",
       "    <tr style=\"text-align: right;\">\n",
       "      <th></th>\n",
       "      <th>Name</th>\n",
       "      <th>Price</th>\n",
       "      <th>brand</th>\n",
       "    </tr>\n",
       "  </thead>\n",
       "  <tbody>\n",
       "    <tr>\n",
       "      <th>1782</th>\n",
       "      <td>Oppo A77, 6.56', 6GB RAM + 128GB, 48MP, 5000mA...</td>\n",
       "      <td>29000</td>\n",
       "      <td>oppo</td>\n",
       "    </tr>\n",
       "    <tr>\n",
       "      <th>226</th>\n",
       "      <td>Tecno Spark 9 Pro, 6.6\", 128GB + 4GB RAM (Dual...</td>\n",
       "      <td>21849</td>\n",
       "      <td>tecno</td>\n",
       "    </tr>\n",
       "  </tbody>\n",
       "</table>\n",
       "</div>"
      ],
      "text/plain": [
       "                                                   Name  Price  brand\n",
       "1782  Oppo A77, 6.56', 6GB RAM + 128GB, 48MP, 5000mA...  29000   oppo\n",
       "226   Tecno Spark 9 Pro, 6.6\", 128GB + 4GB RAM (Dual...  21849  tecno"
      ]
     },
     "execution_count": 30,
     "metadata": {},
     "output_type": "execute_result"
    }
   ],
   "source": [
    "jumia.sample(2)"
   ]
  },
  {
   "cell_type": "code",
   "execution_count": 31,
   "id": "71c9df4e",
   "metadata": {},
   "outputs": [
    {
     "data": {
      "text/html": [
       "<div>\n",
       "<style scoped>\n",
       "    .dataframe tbody tr th:only-of-type {\n",
       "        vertical-align: middle;\n",
       "    }\n",
       "\n",
       "    .dataframe tbody tr th {\n",
       "        vertical-align: top;\n",
       "    }\n",
       "\n",
       "    .dataframe thead th {\n",
       "        text-align: right;\n",
       "    }\n",
       "</style>\n",
       "<table border=\"1\" class=\"dataframe\">\n",
       "  <thead>\n",
       "    <tr style=\"text-align: right;\">\n",
       "      <th></th>\n",
       "      <th>Name</th>\n",
       "      <th>Price</th>\n",
       "      <th>brand</th>\n",
       "    </tr>\n",
       "  </thead>\n",
       "  <tbody>\n",
       "    <tr>\n",
       "      <th>584</th>\n",
       "      <td>Nokia G21, 6.5″, 128GB ROM+ 4GB RAM Dual SIM, ...</td>\n",
       "      <td>20698</td>\n",
       "      <td>nokia</td>\n",
       "    </tr>\n",
       "    <tr>\n",
       "      <th>933</th>\n",
       "      <td>Tecno CAMON 19 Pro, 6.8\", 256GB+ 8GB (Dual SIM...</td>\n",
       "      <td>34899</td>\n",
       "      <td>tecno</td>\n",
       "    </tr>\n",
       "  </tbody>\n",
       "</table>\n",
       "</div>"
      ],
      "text/plain": [
       "                                                  Name  Price  brand\n",
       "584  Nokia G21, 6.5″, 128GB ROM+ 4GB RAM Dual SIM, ...  20698  nokia\n",
       "933  Tecno CAMON 19 Pro, 6.8\", 256GB+ 8GB (Dual SIM...  34899  tecno"
      ]
     },
     "execution_count": 31,
     "metadata": {},
     "output_type": "execute_result"
    }
   ],
   "source": [
    "#replacing empty cells with NaN\n",
    "jumia2=jumia.replace('', np.nan)\n",
    "jumia2.sample(2)"
   ]
  },
  {
   "cell_type": "code",
   "execution_count": 32,
   "id": "5d2a2d7b",
   "metadata": {},
   "outputs": [],
   "source": [
    "#dropping the missing values\n",
    "jumia2.dropna(subset=['brand'],inplace=True)"
   ]
  },
  {
   "cell_type": "code",
   "execution_count": 33,
   "id": "0bf834bb",
   "metadata": {},
   "outputs": [
    {
     "data": {
      "text/html": [
       "<div>\n",
       "<style scoped>\n",
       "    .dataframe tbody tr th:only-of-type {\n",
       "        vertical-align: middle;\n",
       "    }\n",
       "\n",
       "    .dataframe tbody tr th {\n",
       "        vertical-align: top;\n",
       "    }\n",
       "\n",
       "    .dataframe thead th {\n",
       "        text-align: right;\n",
       "    }\n",
       "</style>\n",
       "<table border=\"1\" class=\"dataframe\">\n",
       "  <thead>\n",
       "    <tr style=\"text-align: right;\">\n",
       "      <th></th>\n",
       "      <th>Name</th>\n",
       "      <th>Price</th>\n",
       "      <th>brand</th>\n",
       "    </tr>\n",
       "  </thead>\n",
       "  <tbody>\n",
       "    <tr>\n",
       "      <th>149</th>\n",
       "      <td>Tecno Spark 9, 6.6\" , 4GB RAM+64GB, 13MP, Dual...</td>\n",
       "      <td>16624</td>\n",
       "      <td>tecno</td>\n",
       "    </tr>\n",
       "    <tr>\n",
       "      <th>1354</th>\n",
       "      <td>Samsung Galaxy M52 5G, 6.7\", 8GB RAM + 128GB (...</td>\n",
       "      <td>37690</td>\n",
       "      <td>samsung</td>\n",
       "    </tr>\n",
       "  </tbody>\n",
       "</table>\n",
       "</div>"
      ],
      "text/plain": [
       "                                                   Name  Price    brand\n",
       "149   Tecno Spark 9, 6.6\" , 4GB RAM+64GB, 13MP, Dual...  16624    tecno\n",
       "1354  Samsung Galaxy M52 5G, 6.7\", 8GB RAM + 128GB (...  37690  samsung"
      ]
     },
     "execution_count": 33,
     "metadata": {},
     "output_type": "execute_result"
    }
   ],
   "source": [
    "jumia2.sample(2)"
   ]
  },
  {
   "cell_type": "code",
   "execution_count": 34,
   "id": "85fd792a",
   "metadata": {},
   "outputs": [
    {
     "data": {
      "text/plain": [
       "(1448, 3)"
      ]
     },
     "execution_count": 34,
     "metadata": {},
     "output_type": "execute_result"
    }
   ],
   "source": [
    "jumia2.shape"
   ]
  },
  {
   "cell_type": "code",
   "execution_count": 35,
   "id": "2741f6f6",
   "metadata": {},
   "outputs": [
    {
     "name": "stderr",
     "output_type": "stream",
     "text": [
      "<ipython-input-35-1f7bb57baf89>:1: FutureWarning: The default value of regex will change from True to False in a future version.\n",
      "  jumia2['Name']=jumia2['Name'].str.replace('\\s+\\s','-')\n"
     ]
    }
   ],
   "source": [
    "jumia2['Name']=jumia2['Name'].str.replace('\\s+\\s','-')"
   ]
  },
  {
   "cell_type": "code",
   "execution_count": 36,
   "id": "57c61f40",
   "metadata": {},
   "outputs": [
    {
     "data": {
      "text/html": [
       "<div>\n",
       "<style scoped>\n",
       "    .dataframe tbody tr th:only-of-type {\n",
       "        vertical-align: middle;\n",
       "    }\n",
       "\n",
       "    .dataframe tbody tr th {\n",
       "        vertical-align: top;\n",
       "    }\n",
       "\n",
       "    .dataframe thead th {\n",
       "        text-align: right;\n",
       "    }\n",
       "</style>\n",
       "<table border=\"1\" class=\"dataframe\">\n",
       "  <thead>\n",
       "    <tr style=\"text-align: right;\">\n",
       "      <th></th>\n",
       "      <th>Name</th>\n",
       "      <th>Price</th>\n",
       "      <th>brand</th>\n",
       "    </tr>\n",
       "  </thead>\n",
       "  <tbody>\n",
       "    <tr>\n",
       "      <th>928</th>\n",
       "      <td>Nokia G21, 6.5″, 128GB + 4GB Dual SIM, 5050MAh...</td>\n",
       "      <td>20999</td>\n",
       "      <td>nokia</td>\n",
       "    </tr>\n",
       "    <tr>\n",
       "      <th>1087</th>\n",
       "      <td>Samsung Galaxy F13, 6.6\", 4GB RAM + 64GB (Dual...</td>\n",
       "      <td>17999</td>\n",
       "      <td>samsung</td>\n",
       "    </tr>\n",
       "  </tbody>\n",
       "</table>\n",
       "</div>"
      ],
      "text/plain": [
       "                                                   Name  Price    brand\n",
       "928   Nokia G21, 6.5″, 128GB + 4GB Dual SIM, 5050MAh...  20999    nokia\n",
       "1087  Samsung Galaxy F13, 6.6\", 4GB RAM + 64GB (Dual...  17999  samsung"
      ]
     },
     "execution_count": 36,
     "metadata": {},
     "output_type": "execute_result"
    }
   ],
   "source": [
    "jumia2.sample(2)"
   ]
  },
  {
   "cell_type": "code",
   "execution_count": 37,
   "id": "8bb9c602",
   "metadata": {},
   "outputs": [],
   "source": [
    "#defining function to extract phone RAM\n",
    "words = ['1gb','2gb','4gb','6gb','8gb','4ram','3gb','1 gb','6gbram','12gb','2G',\n",
    "        '1 ram','4 gb','8 gb','2 gb','3 gb','6 gb','1ram','screen2gb','4gbram',\n",
    "        '[8][+]','[4][+]','[6][+]','[1][\\s][+]','8gm']\n",
    "\n",
    "# mystring contains at least one of the words\n",
    "def getram2(name):\n",
    "    ram2=re.findall(r\"\\b({})\\b\".format('|'.join(words)), name, flags=re.IGNORECASE)\n",
    "    return ''.join(ram2)"
   ]
  },
  {
   "cell_type": "code",
   "execution_count": 38,
   "id": "624a904f",
   "metadata": {},
   "outputs": [],
   "source": [
    "jumia2['ram_space2']=jumia2['Name'].apply(getram2)"
   ]
  },
  {
   "cell_type": "code",
   "execution_count": 39,
   "id": "d0b66652",
   "metadata": {},
   "outputs": [
    {
     "data": {
      "text/html": [
       "<div>\n",
       "<style scoped>\n",
       "    .dataframe tbody tr th:only-of-type {\n",
       "        vertical-align: middle;\n",
       "    }\n",
       "\n",
       "    .dataframe tbody tr th {\n",
       "        vertical-align: top;\n",
       "    }\n",
       "\n",
       "    .dataframe thead th {\n",
       "        text-align: right;\n",
       "    }\n",
       "</style>\n",
       "<table border=\"1\" class=\"dataframe\">\n",
       "  <thead>\n",
       "    <tr style=\"text-align: right;\">\n",
       "      <th></th>\n",
       "      <th>Name</th>\n",
       "      <th>Price</th>\n",
       "      <th>brand</th>\n",
       "      <th>ram_space2</th>\n",
       "    </tr>\n",
       "  </thead>\n",
       "  <tbody>\n",
       "    <tr>\n",
       "      <th>478</th>\n",
       "      <td>XIAOMI Redmi 10C, 6.53'', [4GB RAM + 64GB], 4G...</td>\n",
       "      <td>17499</td>\n",
       "      <td>xiaomi</td>\n",
       "      <td>4GB</td>\n",
       "    </tr>\n",
       "    <tr>\n",
       "      <th>83</th>\n",
       "      <td>Infinix Hot 12 Play, 6.82\", 64GB + 4GB RAM (Du...</td>\n",
       "      <td>15949</td>\n",
       "      <td>infinix</td>\n",
       "      <td>4GB</td>\n",
       "    </tr>\n",
       "  </tbody>\n",
       "</table>\n",
       "</div>"
      ],
      "text/plain": [
       "                                                  Name  Price    brand  \\\n",
       "478  XIAOMI Redmi 10C, 6.53'', [4GB RAM + 64GB], 4G...  17499   xiaomi   \n",
       "83   Infinix Hot 12 Play, 6.82\", 64GB + 4GB RAM (Du...  15949  infinix   \n",
       "\n",
       "    ram_space2  \n",
       "478        4GB  \n",
       "83         4GB  "
      ]
     },
     "execution_count": 39,
     "metadata": {},
     "output_type": "execute_result"
    }
   ],
   "source": [
    "jumia2.sample(2)"
   ]
  },
  {
   "cell_type": "code",
   "execution_count": 40,
   "id": "191cb6f0",
   "metadata": {},
   "outputs": [
    {
     "data": {
      "text/plain": [
       "Name           0\n",
       "Price          0\n",
       "brand          0\n",
       "ram_space2    29\n",
       "dtype: int64"
      ]
     },
     "execution_count": 40,
     "metadata": {},
     "output_type": "execute_result"
    }
   ],
   "source": [
    "#replacing empty spaces with nan and counting\n",
    "jumia2['ram_space2'].replace('',np.nan,inplace=True)\n",
    "jumia2.isna().sum()"
   ]
  },
  {
   "cell_type": "code",
   "execution_count": 41,
   "id": "b1288c88",
   "metadata": {},
   "outputs": [],
   "source": [
    "#defining function to get storage capacity\n",
    "words = ['16gb','32gb','64gb','128gb','256gb','128gbrom','64rom','[32][+]',\n",
    "         '16 GB','32 gb','64 gb','128 gb','256 gb','128g','[+][64]','64g[+]']\n",
    "        #'1 ram','4 gb','8 gb','2 gb','3 gb','6 gb','1ram','screen2gb','4gbram',\n",
    "        #'[8][+]','[4][+]','[6][+]','[1][\\s][+]','8gm']\n",
    "\n",
    "# mystring contains at least one of the words\n",
    "def getrom(name):\n",
    "    rom=re.findall(r\"\\b({})\\b\".format('|'.join(words)), name, flags=re.IGNORECASE)\n",
    "    return ''.join(rom)"
   ]
  },
  {
   "cell_type": "code",
   "execution_count": 42,
   "id": "20832101",
   "metadata": {},
   "outputs": [],
   "source": [
    "jumia2['storage']=jumia2['Name'].apply(getrom)"
   ]
  },
  {
   "cell_type": "code",
   "execution_count": 43,
   "id": "565acba3",
   "metadata": {},
   "outputs": [
    {
     "data": {
      "text/html": [
       "<div>\n",
       "<style scoped>\n",
       "    .dataframe tbody tr th:only-of-type {\n",
       "        vertical-align: middle;\n",
       "    }\n",
       "\n",
       "    .dataframe tbody tr th {\n",
       "        vertical-align: top;\n",
       "    }\n",
       "\n",
       "    .dataframe thead th {\n",
       "        text-align: right;\n",
       "    }\n",
       "</style>\n",
       "<table border=\"1\" class=\"dataframe\">\n",
       "  <thead>\n",
       "    <tr style=\"text-align: right;\">\n",
       "      <th></th>\n",
       "      <th>Name</th>\n",
       "      <th>Price</th>\n",
       "      <th>brand</th>\n",
       "      <th>ram_space2</th>\n",
       "      <th>storage</th>\n",
       "    </tr>\n",
       "  </thead>\n",
       "  <tbody>\n",
       "    <tr>\n",
       "      <th>1739</th>\n",
       "      <td>Nokia X10, [6GB + 128GB], DUAL SIM +-FREE QUAL...</td>\n",
       "      <td>21825</td>\n",
       "      <td>nokia</td>\n",
       "      <td>6GB</td>\n",
       "      <td>128GB</td>\n",
       "    </tr>\n",
       "    <tr>\n",
       "      <th>927</th>\n",
       "      <td>Tecno Spark 9T, 6.6\", 64GB/4GB--13MP-(Dual SIM...</td>\n",
       "      <td>16200</td>\n",
       "      <td>tecno</td>\n",
       "      <td>4GB</td>\n",
       "      <td>64GB</td>\n",
       "    </tr>\n",
       "  </tbody>\n",
       "</table>\n",
       "</div>"
      ],
      "text/plain": [
       "                                                   Name  Price  brand  \\\n",
       "1739  Nokia X10, [6GB + 128GB], DUAL SIM +-FREE QUAL...  21825  nokia   \n",
       "927   Tecno Spark 9T, 6.6\", 64GB/4GB--13MP-(Dual SIM...  16200  tecno   \n",
       "\n",
       "     ram_space2 storage  \n",
       "1739        6GB   128GB  \n",
       "927         4GB    64GB  "
      ]
     },
     "execution_count": 43,
     "metadata": {},
     "output_type": "execute_result"
    }
   ],
   "source": [
    "jumia2.sample(2)"
   ]
  },
  {
   "cell_type": "code",
   "execution_count": 44,
   "id": "94781f21",
   "metadata": {},
   "outputs": [
    {
     "data": {
      "text/plain": [
       "Name           0\n",
       "Price          0\n",
       "brand          0\n",
       "ram_space2    29\n",
       "storage       23\n",
       "dtype: int64"
      ]
     },
     "execution_count": 44,
     "metadata": {},
     "output_type": "execute_result"
    }
   ],
   "source": [
    "#replacing empty spaces with nan and counting\n",
    "jumia2['storage'].replace('',np.nan,inplace=True)\n",
    "jumia2.isna().sum()"
   ]
  },
  {
   "cell_type": "code",
   "execution_count": 45,
   "id": "109b93ef",
   "metadata": {},
   "outputs": [
    {
     "data": {
      "text/plain": [
       "(1448, 5)"
      ]
     },
     "execution_count": 45,
     "metadata": {},
     "output_type": "execute_result"
    }
   ],
   "source": [
    "jumia2.shape"
   ]
  },
  {
   "cell_type": "code",
   "execution_count": 46,
   "id": "57cf9aa4",
   "metadata": {},
   "outputs": [],
   "source": [
    "#defining function to get battery size\n",
    "words = ['5000mah','4230mah','4000mah','4750mah','4,020mah','6000mah','2500mh','5050 mah','4680 mah',\n",
    "        '3240mah','4323mah','4500mah','-5000-','2400mah','4400mah','3000mah','3020mah','2500mah']\n",
    "\n",
    "# mystring contains at least one of the words\n",
    "def getbattery(name):\n",
    "    battery=re.findall(r\"\\b({})\\b\".format('|'.join(words)), name, flags=re.IGNORECASE)\n",
    "    return ''.join(battery)"
   ]
  },
  {
   "cell_type": "code",
   "execution_count": 47,
   "id": "8603466a",
   "metadata": {},
   "outputs": [],
   "source": [
    "jumia2['battery']=jumia2['Name'].apply(getbattery)"
   ]
  },
  {
   "cell_type": "code",
   "execution_count": 48,
   "id": "be424c9d",
   "metadata": {},
   "outputs": [
    {
     "data": {
      "text/html": [
       "<div>\n",
       "<style scoped>\n",
       "    .dataframe tbody tr th:only-of-type {\n",
       "        vertical-align: middle;\n",
       "    }\n",
       "\n",
       "    .dataframe tbody tr th {\n",
       "        vertical-align: top;\n",
       "    }\n",
       "\n",
       "    .dataframe thead th {\n",
       "        text-align: right;\n",
       "    }\n",
       "</style>\n",
       "<table border=\"1\" class=\"dataframe\">\n",
       "  <thead>\n",
       "    <tr style=\"text-align: right;\">\n",
       "      <th></th>\n",
       "      <th>Name</th>\n",
       "      <th>Price</th>\n",
       "      <th>brand</th>\n",
       "      <th>ram_space2</th>\n",
       "      <th>storage</th>\n",
       "      <th>battery</th>\n",
       "    </tr>\n",
       "  </thead>\n",
       "  <tbody>\n",
       "    <tr>\n",
       "      <th>225</th>\n",
       "      <td>Infinix HOT 12i, 6.6'', 64GB + 3GB RAM,Dual SI...</td>\n",
       "      <td>16149</td>\n",
       "      <td>infinix</td>\n",
       "      <td>3GB</td>\n",
       "      <td>64GB</td>\n",
       "      <td>5000mAh</td>\n",
       "    </tr>\n",
       "    <tr>\n",
       "      <th>1449</th>\n",
       "      <td>Tecno Spark 9T, 6.6\", 128GB + 4GB RAM (Dual SI...</td>\n",
       "      <td>18799</td>\n",
       "      <td>tecno</td>\n",
       "      <td>4GB</td>\n",
       "      <td>128GB</td>\n",
       "      <td>5000mAh</td>\n",
       "    </tr>\n",
       "  </tbody>\n",
       "</table>\n",
       "</div>"
      ],
      "text/plain": [
       "                                                   Name  Price    brand  \\\n",
       "225   Infinix HOT 12i, 6.6'', 64GB + 3GB RAM,Dual SI...  16149  infinix   \n",
       "1449  Tecno Spark 9T, 6.6\", 128GB + 4GB RAM (Dual SI...  18799    tecno   \n",
       "\n",
       "     ram_space2 storage  battery  \n",
       "225         3GB    64GB  5000mAh  \n",
       "1449        4GB   128GB  5000mAh  "
      ]
     },
     "execution_count": 48,
     "metadata": {},
     "output_type": "execute_result"
    }
   ],
   "source": [
    "jumia2.sample(2)"
   ]
  },
  {
   "cell_type": "code",
   "execution_count": 49,
   "id": "b4d39414",
   "metadata": {},
   "outputs": [
    {
     "data": {
      "text/plain": [
       "Name            0\n",
       "Price           0\n",
       "brand           0\n",
       "ram_space2     29\n",
       "storage        23\n",
       "battery       454\n",
       "dtype: int64"
      ]
     },
     "execution_count": 49,
     "metadata": {},
     "output_type": "execute_result"
    }
   ],
   "source": [
    "#replacing empty spaces with nan and counting\n",
    "jumia2['battery'].replace('',np.nan,inplace=True)\n",
    "jumia2.isna().sum()"
   ]
  },
  {
   "cell_type": "code",
   "execution_count": 50,
   "id": "e934b1f1",
   "metadata": {},
   "outputs": [],
   "source": [
    "#defining function to get screen size\n",
    "words = ['6\"','5\"']\n",
    "\n",
    "# mystring contains at least one of the words\n",
    "def getscreen(name):\n",
    "    screen=re.findall('([0-9]+[.]+[0-9]+|\\d+[\"])',name)\n",
    "    #screen=re.findall(r\"\\b({})\\b\".format('|'.join(words)), name, flags=re.IGNORECASE)\n",
    "    return ''.join(screen)"
   ]
  },
  {
   "cell_type": "code",
   "execution_count": 51,
   "id": "1516202c",
   "metadata": {},
   "outputs": [],
   "source": [
    "jumia2['screen']=jumia2['Name'].apply(getscreen)"
   ]
  },
  {
   "cell_type": "code",
   "execution_count": 52,
   "id": "1b809fda",
   "metadata": {},
   "outputs": [
    {
     "data": {
      "text/html": [
       "<div>\n",
       "<style scoped>\n",
       "    .dataframe tbody tr th:only-of-type {\n",
       "        vertical-align: middle;\n",
       "    }\n",
       "\n",
       "    .dataframe tbody tr th {\n",
       "        vertical-align: top;\n",
       "    }\n",
       "\n",
       "    .dataframe thead th {\n",
       "        text-align: right;\n",
       "    }\n",
       "</style>\n",
       "<table border=\"1\" class=\"dataframe\">\n",
       "  <thead>\n",
       "    <tr style=\"text-align: right;\">\n",
       "      <th></th>\n",
       "      <th>Name</th>\n",
       "      <th>Price</th>\n",
       "      <th>brand</th>\n",
       "      <th>ram_space2</th>\n",
       "      <th>storage</th>\n",
       "      <th>battery</th>\n",
       "      <th>screen</th>\n",
       "    </tr>\n",
       "  </thead>\n",
       "  <tbody>\n",
       "    <tr>\n",
       "      <th>1941</th>\n",
       "      <td>XIAOMI REDMI NOTE 11, 6.43\", [4GB + 128GB], 50...</td>\n",
       "      <td>24499</td>\n",
       "      <td>xiaomi</td>\n",
       "      <td>4GB</td>\n",
       "      <td>128GB</td>\n",
       "      <td>NaN</td>\n",
       "      <td>6.43</td>\n",
       "    </tr>\n",
       "    <tr>\n",
       "      <th>750</th>\n",
       "      <td>Samsung Galaxy A03s 6.5″ Display 64GBROM+ 4GBR...</td>\n",
       "      <td>16500</td>\n",
       "      <td>samsung</td>\n",
       "      <td>4GBRAM</td>\n",
       "      <td>NaN</td>\n",
       "      <td>NaN</td>\n",
       "      <td>6.5</td>\n",
       "    </tr>\n",
       "  </tbody>\n",
       "</table>\n",
       "</div>"
      ],
      "text/plain": [
       "                                                   Name  Price    brand  \\\n",
       "1941  XIAOMI REDMI NOTE 11, 6.43\", [4GB + 128GB], 50...  24499   xiaomi   \n",
       "750   Samsung Galaxy A03s 6.5″ Display 64GBROM+ 4GBR...  16500  samsung   \n",
       "\n",
       "     ram_space2 storage battery screen  \n",
       "1941        4GB   128GB     NaN   6.43  \n",
       "750      4GBRAM     NaN     NaN    6.5  "
      ]
     },
     "execution_count": 52,
     "metadata": {},
     "output_type": "execute_result"
    }
   ],
   "source": [
    "jumia2.sample(2)"
   ]
  },
  {
   "cell_type": "code",
   "execution_count": 53,
   "id": "8eb13274",
   "metadata": {},
   "outputs": [
    {
     "data": {
      "text/plain": [
       "Name            0\n",
       "Price           0\n",
       "brand           0\n",
       "ram_space2     29\n",
       "storage        23\n",
       "battery       454\n",
       "screen         62\n",
       "dtype: int64"
      ]
     },
     "execution_count": 53,
     "metadata": {},
     "output_type": "execute_result"
    }
   ],
   "source": [
    "#replacing empty spaces with nan and counting\n",
    "jumia2['screen'].replace('',np.nan,inplace=True)\n",
    "jumia2.isna().sum()"
   ]
  },
  {
   "cell_type": "code",
   "execution_count": 54,
   "id": "8aa367f7",
   "metadata": {},
   "outputs": [
    {
     "data": {
      "text/html": [
       "<div>\n",
       "<style scoped>\n",
       "    .dataframe tbody tr th:only-of-type {\n",
       "        vertical-align: middle;\n",
       "    }\n",
       "\n",
       "    .dataframe tbody tr th {\n",
       "        vertical-align: top;\n",
       "    }\n",
       "\n",
       "    .dataframe thead th {\n",
       "        text-align: right;\n",
       "    }\n",
       "</style>\n",
       "<table border=\"1\" class=\"dataframe\">\n",
       "  <thead>\n",
       "    <tr style=\"text-align: right;\">\n",
       "      <th></th>\n",
       "      <th>Name</th>\n",
       "      <th>Price</th>\n",
       "      <th>brand</th>\n",
       "      <th>ram_space2</th>\n",
       "      <th>storage</th>\n",
       "      <th>battery</th>\n",
       "      <th>screen</th>\n",
       "    </tr>\n",
       "  </thead>\n",
       "  <tbody>\n",
       "    <tr>\n",
       "      <th>0</th>\n",
       "      <td>Infinix Smart 6, 6.6\", 2GB RAM, 32GB, 5000mAh,...</td>\n",
       "      <td>9999</td>\n",
       "      <td>infinix</td>\n",
       "      <td>2GB</td>\n",
       "      <td>32GB</td>\n",
       "      <td>5000mAh</td>\n",
       "      <td>6.6</td>\n",
       "    </tr>\n",
       "    <tr>\n",
       "      <th>1</th>\n",
       "      <td>XIAOMI Redmi A1+, 6.52\", 2GB+32GB, 8.0MP, 5000...</td>\n",
       "      <td>8999</td>\n",
       "      <td>xiaomi</td>\n",
       "      <td>2GB</td>\n",
       "      <td>32GB</td>\n",
       "      <td>5000mAh</td>\n",
       "      <td>6.528.0</td>\n",
       "    </tr>\n",
       "    <tr>\n",
       "      <th>2</th>\n",
       "      <td>XIAOMI Redmi 10A, 6.53\", 3GB+64GB, 13.0MP, 500...</td>\n",
       "      <td>12999</td>\n",
       "      <td>xiaomi</td>\n",
       "      <td>3GB</td>\n",
       "      <td>64GB</td>\n",
       "      <td>5000mAh</td>\n",
       "      <td>6.5313.0</td>\n",
       "    </tr>\n",
       "    <tr>\n",
       "      <th>3</th>\n",
       "      <td>Infinix Smart 6, 6.6\", 32GB + 2GB RAM (Dual SI...</td>\n",
       "      <td>9799</td>\n",
       "      <td>infinix</td>\n",
       "      <td>2GB</td>\n",
       "      <td>32GB</td>\n",
       "      <td>5000mAh</td>\n",
       "      <td>6.6</td>\n",
       "    </tr>\n",
       "    <tr>\n",
       "      <th>4</th>\n",
       "      <td>Tecno Spark 8P, 6.6\", 64GB + 4GB RAM (Dual SIM...</td>\n",
       "      <td>13830</td>\n",
       "      <td>tecno</td>\n",
       "      <td>4GB</td>\n",
       "      <td>64GB</td>\n",
       "      <td>5000mAh</td>\n",
       "      <td>6.6</td>\n",
       "    </tr>\n",
       "  </tbody>\n",
       "</table>\n",
       "</div>"
      ],
      "text/plain": [
       "                                                Name  Price    brand  \\\n",
       "0  Infinix Smart 6, 6.6\", 2GB RAM, 32GB, 5000mAh,...   9999  infinix   \n",
       "1  XIAOMI Redmi A1+, 6.52\", 2GB+32GB, 8.0MP, 5000...   8999   xiaomi   \n",
       "2  XIAOMI Redmi 10A, 6.53\", 3GB+64GB, 13.0MP, 500...  12999   xiaomi   \n",
       "3  Infinix Smart 6, 6.6\", 32GB + 2GB RAM (Dual SI...   9799  infinix   \n",
       "4  Tecno Spark 8P, 6.6\", 64GB + 4GB RAM (Dual SIM...  13830    tecno   \n",
       "\n",
       "  ram_space2 storage  battery    screen  \n",
       "0        2GB    32GB  5000mAh       6.6  \n",
       "1        2GB    32GB  5000mAh   6.528.0  \n",
       "2        3GB    64GB  5000mAh  6.5313.0  \n",
       "3        2GB    32GB  5000mAh       6.6  \n",
       "4        4GB    64GB  5000mAh       6.6  "
      ]
     },
     "execution_count": 54,
     "metadata": {},
     "output_type": "execute_result"
    }
   ],
   "source": [
    "###removing unnecessary strings in some columns\n",
    "jumia2.head()"
   ]
  },
  {
   "cell_type": "code",
   "execution_count": 55,
   "id": "50fc7c61",
   "metadata": {},
   "outputs": [
    {
     "name": "stderr",
     "output_type": "stream",
     "text": [
      "<ipython-input-55-45d574e5cf62>:5: FutureWarning: The default value of regex will change from True to False in a future version. In addition, single character regular expressions will*not* be treated as literal strings when regex=True.\n",
      "  jumia2['ram_space2']=jumia2['ram_space2'].str.replace(\"+\",'')\n"
     ]
    }
   ],
   "source": [
    "#removing unwanted parts of RAM\n",
    "jumia2['ram_space2']=jumia2['ram_space2'].str.replace(\"GB\",'')\n",
    "jumia2['ram_space2']=jumia2['ram_space2'].str.replace(\"gb\",'')\n",
    "jumia2['ram_space2']=jumia2['ram_space2'].str.replace(\"RAM\",'')\n",
    "jumia2['ram_space2']=jumia2['ram_space2'].str.replace(\"+\",'')\n",
    "jumia2['ram_space2']=jumia2['ram_space2'].str.replace(\"GM\",'gb')\n",
    "jumia2['ram_space2']=jumia2['ram_space2'].str.replace(\"G\",'gb')\n",
    "jumia2['ram_space2']=jumia2['ram_space2'].str.replace(\"screen2\",'2gb')\n",
    "jumia2['ram_space2']=jumia2['ram_space2'].str.replace(\"24\",'2gb')\n",
    "jumia2['ram_space2']=jumia2['ram_space2'].str.replace(\"28\",'2gb')\n",
    "jumia2['ram_space2']=jumia2['ram_space2'].str.replace(\"26\",'2gb')\n",
    "jumia2['ram_space2']=jumia2['ram_space2'].str.replace(\"23\",'2gb')\n",
    "jumia2['ram_space2']=jumia2['ram_space2'].str.replace(\"16\",'1gb')\n",
    "jumia2['ram_space2'] =jumia2['ram_space2'].astype(str)+'gb'"
   ]
  },
  {
   "cell_type": "code",
   "execution_count": 56,
   "id": "c09da5af",
   "metadata": {},
   "outputs": [],
   "source": [
    "jumia2['ram_space2']=jumia2['ram_space2'].str.replace(\"gbgb\",'gb')"
   ]
  },
  {
   "cell_type": "code",
   "execution_count": 57,
   "id": "1fcd7fe4",
   "metadata": {},
   "outputs": [],
   "source": [
    "jumia2['ram_space2'].replace(\"nangb\",np.nan,inplace=True)"
   ]
  },
  {
   "cell_type": "code",
   "execution_count": 58,
   "id": "a1d40479",
   "metadata": {},
   "outputs": [],
   "source": [
    "#removing all spaces\n",
    "jumia2['ram_space2'].replace(\" \", \"\",inplace=True)"
   ]
  },
  {
   "cell_type": "code",
   "execution_count": 59,
   "id": "2eead1f3",
   "metadata": {},
   "outputs": [],
   "source": [
    "jumia2['ram_space2']=jumia2['ram_space2'].str.replace(\" gb\",'gb')"
   ]
  },
  {
   "cell_type": "code",
   "execution_count": 60,
   "id": "8bfd2863",
   "metadata": {},
   "outputs": [],
   "source": [
    "jumia2['ram_space2']=jumia2['ram_space2'].str.replace(\"44gb\",'4gb')"
   ]
  },
  {
   "cell_type": "code",
   "execution_count": 61,
   "id": "4840b604",
   "metadata": {},
   "outputs": [
    {
     "name": "stderr",
     "output_type": "stream",
     "text": [
      "<ipython-input-61-39a0a32df9a9>:7: FutureWarning: The default value of regex will change from True to False in a future version.\n",
      "  jumia2['storage']=jumia2['storage'].str.replace(\"64G+32gb\",'64gb')\n",
      "<ipython-input-61-39a0a32df9a9>:8: FutureWarning: The default value of regex will change from True to False in a future version.\n",
      "  jumia2['storage']=jumia2['storage'].str.replace(\"[+]4\",'64gb')\n"
     ]
    }
   ],
   "source": [
    "#removing unwanted parts of storage/rom\n",
    "jumia2['storage']=jumia2['storage'].str.replace(\"GB\",'gb')\n",
    "jumia2['storage']=jumia2['storage'].str.replace(\"ROM\",'gb')\n",
    "jumia2['storage']=jumia2['storage'].str.replace(\" GB\",'gb')\n",
    "jumia2['storage']=jumia2['storage'].str.replace(\"gbgb\",'gb')\n",
    "jumia2['storage']=jumia2['storage'].str.replace(\" gb\",'gb')\n",
    "jumia2['storage']=jumia2['storage'].str.replace(\"64G+32gb\",'64gb')\n",
    "jumia2['storage']=jumia2['storage'].str.replace(\"[+]4\",'64gb')\n",
    "jumia2['storage']=jumia2['storage'].str.replace(\" Gb\",'gb')\n",
    "jumia2['storage']=jumia2['storage'].str.replace(\"32gb32gb\",'32gb')"
   ]
  },
  {
   "cell_type": "code",
   "execution_count": 62,
   "id": "ccffef94",
   "metadata": {},
   "outputs": [],
   "source": [
    "jumia2['storage'].replace(\" \", \"\",inplace=True)"
   ]
  },
  {
   "cell_type": "code",
   "execution_count": 63,
   "id": "4d37f566",
   "metadata": {},
   "outputs": [],
   "source": [
    "#converting the battery mah into lower and removing space\n",
    "#removing space\n",
    "jumia2['battery'].replace(\" \", \"\",inplace=True)"
   ]
  },
  {
   "cell_type": "code",
   "execution_count": 64,
   "id": "4a1378ee",
   "metadata": {},
   "outputs": [],
   "source": [
    "#converting to lower case\n",
    "jumia2['battery']=jumia2['battery'].str.lower()"
   ]
  },
  {
   "cell_type": "code",
   "execution_count": 65,
   "id": "4234344d",
   "metadata": {},
   "outputs": [],
   "source": [
    "jumia2['battery']=jumia2['battery'].str.replace(\"mh\",'mah')"
   ]
  },
  {
   "cell_type": "code",
   "execution_count": 66,
   "id": "7c428dde",
   "metadata": {},
   "outputs": [],
   "source": [
    "jumia2['battery']=jumia2['battery'].str.replace(\" mah\",'mah')"
   ]
  },
  {
   "cell_type": "code",
   "execution_count": 67,
   "id": "2fed8488",
   "metadata": {},
   "outputs": [],
   "source": [
    "jumia2['battery']=jumia2['battery'].str.replace(\"-5000-\",'5000mah')"
   ]
  },
  {
   "cell_type": "code",
   "execution_count": null,
   "id": "90ab984c",
   "metadata": {},
   "outputs": [],
   "source": []
  },
  {
   "cell_type": "code",
   "execution_count": 68,
   "id": "ed7c0f50",
   "metadata": {},
   "outputs": [],
   "source": [
    "#now dealing with the screen column\n",
    "#removing \" from the column\n",
    "jumia2['screen']=jumia2['screen'].str.replace('\"',\"\")"
   ]
  },
  {
   "cell_type": "code",
   "execution_count": 69,
   "id": "6f5a3ee5",
   "metadata": {},
   "outputs": [],
   "source": [
    "#removing any space\n",
    "jumia2['screen'].replace(\" \", \"\",inplace=True)"
   ]
  },
  {
   "cell_type": "code",
   "execution_count": 70,
   "id": "6393c0d7",
   "metadata": {},
   "outputs": [
    {
     "data": {
      "text/plain": [
       "Name          object\n",
       "Price          int32\n",
       "brand         object\n",
       "ram_space2    object\n",
       "storage       object\n",
       "battery       object\n",
       "screen        object\n",
       "dtype: object"
      ]
     },
     "execution_count": 70,
     "metadata": {},
     "output_type": "execute_result"
    }
   ],
   "source": [
    "jumia2.dtypes"
   ]
  },
  {
   "cell_type": "code",
   "execution_count": 71,
   "id": "e787a702",
   "metadata": {},
   "outputs": [],
   "source": [
    "#getting the first four characters\n",
    "jumia2['screen2']=jumia2['screen'].str[:4]"
   ]
  },
  {
   "cell_type": "code",
   "execution_count": 72,
   "id": "e17b3387",
   "metadata": {},
   "outputs": [],
   "source": [
    "#getting the first three characters\n",
    "jumia2['screen3']=jumia2['screen2'].str[:3]"
   ]
  },
  {
   "cell_type": "code",
   "execution_count": 73,
   "id": "ab092c66",
   "metadata": {},
   "outputs": [
    {
     "data": {
      "text/html": [
       "<div>\n",
       "<style scoped>\n",
       "    .dataframe tbody tr th:only-of-type {\n",
       "        vertical-align: middle;\n",
       "    }\n",
       "\n",
       "    .dataframe tbody tr th {\n",
       "        vertical-align: top;\n",
       "    }\n",
       "\n",
       "    .dataframe thead th {\n",
       "        text-align: right;\n",
       "    }\n",
       "</style>\n",
       "<table border=\"1\" class=\"dataframe\">\n",
       "  <thead>\n",
       "    <tr style=\"text-align: right;\">\n",
       "      <th></th>\n",
       "      <th>Name</th>\n",
       "      <th>Price</th>\n",
       "      <th>brand</th>\n",
       "      <th>ram_space2</th>\n",
       "      <th>storage</th>\n",
       "      <th>battery</th>\n",
       "      <th>screen</th>\n",
       "      <th>screen2</th>\n",
       "      <th>screen3</th>\n",
       "    </tr>\n",
       "  </thead>\n",
       "  <tbody>\n",
       "    <tr>\n",
       "      <th>396</th>\n",
       "      <td>Tecno Camon 18-6.8-inch 128GB+4GB RAM-48 MP-ba...</td>\n",
       "      <td>21699</td>\n",
       "      <td>tecno</td>\n",
       "      <td>4gb</td>\n",
       "      <td>128gb</td>\n",
       "      <td>5000mah</td>\n",
       "      <td>6.8</td>\n",
       "      <td>6.8</td>\n",
       "      <td>6.8</td>\n",
       "    </tr>\n",
       "    <tr>\n",
       "      <th>1790</th>\n",
       "      <td>Infinix Hot 12 Play, 6.82\" DISP,( 64GB + 4GB) ...</td>\n",
       "      <td>16700</td>\n",
       "      <td>infinix</td>\n",
       "      <td>4gb</td>\n",
       "      <td>64gb</td>\n",
       "      <td>6000mah</td>\n",
       "      <td>6.82</td>\n",
       "      <td>6.82</td>\n",
       "      <td>6.8</td>\n",
       "    </tr>\n",
       "  </tbody>\n",
       "</table>\n",
       "</div>"
      ],
      "text/plain": [
       "                                                   Name  Price    brand  \\\n",
       "396   Tecno Camon 18-6.8-inch 128GB+4GB RAM-48 MP-ba...  21699    tecno   \n",
       "1790  Infinix Hot 12 Play, 6.82\" DISP,( 64GB + 4GB) ...  16700  infinix   \n",
       "\n",
       "     ram_space2 storage  battery screen screen2 screen3  \n",
       "396         4gb   128gb  5000mah    6.8     6.8     6.8  \n",
       "1790        4gb    64gb  6000mah   6.82    6.82     6.8  "
      ]
     },
     "execution_count": 73,
     "metadata": {},
     "output_type": "execute_result"
    }
   ],
   "source": [
    "jumia2.sample(2)"
   ]
  },
  {
   "cell_type": "code",
   "execution_count": 74,
   "id": "a5c5d779",
   "metadata": {},
   "outputs": [],
   "source": [
    "#saving cleanest data set\n",
    "jumia2.to_csv(\"Jumia Phones Cleanest Data v3.csv\",index=False)"
   ]
  },
  {
   "cell_type": "code",
   "execution_count": 272,
   "id": "54f51ece",
   "metadata": {},
   "outputs": [
    {
     "data": {
      "image/png": "[encoded data removed]",
      "text/plain": [
       "<Figure size 576x360 with 1 Axes>"
      ]
     },
     "metadata": {
      "needs_background": "light"
     },
     "output_type": "display_data"
    }
   ],
   "source": [
    "#trying plots\n",
    "price=jumia2['Price']\n",
    "plt.figure(figsize=(8,5))\n",
    "plt.hist(price,bins=range(6000, 90000, 500))\n",
    "plt.title('Distribution of Jumia Phone Prices',fontsize=18)\n",
    "plt.ticklabel_format(style='plain',axis=\"x\")\n",
    "plt.show()"
   ]
  },
  {
   "cell_type": "code",
   "execution_count": 273,
   "id": "b858cac6",
   "metadata": {},
   "outputs": [
    {
     "data": {
      "text/html": [
       "<div>\n",
       "<style scoped>\n",
       "    .dataframe tbody tr th:only-of-type {\n",
       "        vertical-align: middle;\n",
       "    }\n",
       "\n",
       "    .dataframe tbody tr th {\n",
       "        vertical-align: top;\n",
       "    }\n",
       "\n",
       "    .dataframe thead th {\n",
       "        text-align: right;\n",
       "    }\n",
       "</style>\n",
       "<table border=\"1\" class=\"dataframe\">\n",
       "  <thead>\n",
       "    <tr style=\"text-align: right;\">\n",
       "      <th></th>\n",
       "      <th>brand</th>\n",
       "      <th>Price</th>\n",
       "    </tr>\n",
       "  </thead>\n",
       "  <tbody>\n",
       "    <tr>\n",
       "      <th>0</th>\n",
       "      <td>apple</td>\n",
       "      <td>209949</td>\n",
       "    </tr>\n",
       "    <tr>\n",
       "      <th>1</th>\n",
       "      <td>apple</td>\n",
       "      <td>199999</td>\n",
       "    </tr>\n",
       "    <tr>\n",
       "      <th>2</th>\n",
       "      <td>apple</td>\n",
       "      <td>199999</td>\n",
       "    </tr>\n",
       "    <tr>\n",
       "      <th>3</th>\n",
       "      <td>apple</td>\n",
       "      <td>197999</td>\n",
       "    </tr>\n",
       "    <tr>\n",
       "      <th>4</th>\n",
       "      <td>apple</td>\n",
       "      <td>196999</td>\n",
       "    </tr>\n",
       "    <tr>\n",
       "      <th>5</th>\n",
       "      <td>apple</td>\n",
       "      <td>184200</td>\n",
       "    </tr>\n",
       "    <tr>\n",
       "      <th>6</th>\n",
       "      <td>apple</td>\n",
       "      <td>173999</td>\n",
       "    </tr>\n",
       "    <tr>\n",
       "      <th>7</th>\n",
       "      <td>apple</td>\n",
       "      <td>157500</td>\n",
       "    </tr>\n",
       "    <tr>\n",
       "      <th>8</th>\n",
       "      <td>apple</td>\n",
       "      <td>157500</td>\n",
       "    </tr>\n",
       "    <tr>\n",
       "      <th>9</th>\n",
       "      <td>samsung</td>\n",
       "      <td>131099</td>\n",
       "    </tr>\n",
       "    <tr>\n",
       "      <th>10</th>\n",
       "      <td>samsung</td>\n",
       "      <td>124999</td>\n",
       "    </tr>\n",
       "  </tbody>\n",
       "</table>\n",
       "</div>"
      ],
      "text/plain": [
       "      brand   Price\n",
       "0     apple  209949\n",
       "1     apple  199999\n",
       "2     apple  199999\n",
       "3     apple  197999\n",
       "4     apple  196999\n",
       "5     apple  184200\n",
       "6     apple  173999\n",
       "7     apple  157500\n",
       "8     apple  157500\n",
       "9   samsung  131099\n",
       "10  samsung  124999"
      ]
     },
     "execution_count": 273,
     "metadata": {},
     "output_type": "execute_result"
    }
   ],
   "source": [
    "#most expensive phones\n",
    "most_expensive_phones=jumia2[['brand','Price']].sort_values('Price',ascending=False).head(11)\n",
    "most_expensive_phones=most_expensive_phones.reset_index(drop=True)\n",
    "most_expensive_phones"
   ]
  },
  {
   "cell_type": "code",
   "execution_count": 436,
   "id": "abd976c2",
   "metadata": {},
   "outputs": [
    {
     "data": {
      "text/html": [
       "<div>\n",
       "<style scoped>\n",
       "    .dataframe tbody tr th:only-of-type {\n",
       "        vertical-align: middle;\n",
       "    }\n",
       "\n",
       "    .dataframe tbody tr th {\n",
       "        vertical-align: top;\n",
       "    }\n",
       "\n",
       "    .dataframe thead th {\n",
       "        text-align: right;\n",
       "    }\n",
       "</style>\n",
       "<table border=\"1\" class=\"dataframe\">\n",
       "  <thead>\n",
       "    <tr style=\"text-align: right;\">\n",
       "      <th></th>\n",
       "      <th>brand</th>\n",
       "      <th>Price</th>\n",
       "    </tr>\n",
       "  </thead>\n",
       "  <tbody>\n",
       "    <tr>\n",
       "      <th>0</th>\n",
       "      <td>itel</td>\n",
       "      <td>6340</td>\n",
       "    </tr>\n",
       "    <tr>\n",
       "      <th>1</th>\n",
       "      <td>itel</td>\n",
       "      <td>6340</td>\n",
       "    </tr>\n",
       "    <tr>\n",
       "      <th>2</th>\n",
       "      <td>itel</td>\n",
       "      <td>6350</td>\n",
       "    </tr>\n",
       "    <tr>\n",
       "      <th>3</th>\n",
       "      <td>itel</td>\n",
       "      <td>6350</td>\n",
       "    </tr>\n",
       "    <tr>\n",
       "      <th>4</th>\n",
       "      <td>itel</td>\n",
       "      <td>6356</td>\n",
       "    </tr>\n",
       "    <tr>\n",
       "      <th>5</th>\n",
       "      <td>itel</td>\n",
       "      <td>6380</td>\n",
       "    </tr>\n",
       "    <tr>\n",
       "      <th>6</th>\n",
       "      <td>itel</td>\n",
       "      <td>6399</td>\n",
       "    </tr>\n",
       "    <tr>\n",
       "      <th>7</th>\n",
       "      <td>itel</td>\n",
       "      <td>6499</td>\n",
       "    </tr>\n",
       "    <tr>\n",
       "      <th>8</th>\n",
       "      <td>itel</td>\n",
       "      <td>6595</td>\n",
       "    </tr>\n",
       "    <tr>\n",
       "      <th>9</th>\n",
       "      <td>itel</td>\n",
       "      <td>6600</td>\n",
       "    </tr>\n",
       "    <tr>\n",
       "      <th>10</th>\n",
       "      <td>itel</td>\n",
       "      <td>6750</td>\n",
       "    </tr>\n",
       "    <tr>\n",
       "      <th>11</th>\n",
       "      <td>itel</td>\n",
       "      <td>6799</td>\n",
       "    </tr>\n",
       "    <tr>\n",
       "      <th>12</th>\n",
       "      <td>itel</td>\n",
       "      <td>6880</td>\n",
       "    </tr>\n",
       "    <tr>\n",
       "      <th>13</th>\n",
       "      <td>itel</td>\n",
       "      <td>6999</td>\n",
       "    </tr>\n",
       "    <tr>\n",
       "      <th>14</th>\n",
       "      <td>itel</td>\n",
       "      <td>6999</td>\n",
       "    </tr>\n",
       "    <tr>\n",
       "      <th>15</th>\n",
       "      <td>itel</td>\n",
       "      <td>6999</td>\n",
       "    </tr>\n",
       "    <tr>\n",
       "      <th>16</th>\n",
       "      <td>itel</td>\n",
       "      <td>7195</td>\n",
       "    </tr>\n",
       "    <tr>\n",
       "      <th>17</th>\n",
       "      <td>itel</td>\n",
       "      <td>7199</td>\n",
       "    </tr>\n",
       "    <tr>\n",
       "      <th>18</th>\n",
       "      <td>nokia</td>\n",
       "      <td>7199</td>\n",
       "    </tr>\n",
       "    <tr>\n",
       "      <th>19</th>\n",
       "      <td>nokia</td>\n",
       "      <td>7199</td>\n",
       "    </tr>\n",
       "  </tbody>\n",
       "</table>\n",
       "</div>"
      ],
      "text/plain": [
       "    brand  Price\n",
       "0    itel   6340\n",
       "1    itel   6340\n",
       "2    itel   6350\n",
       "3    itel   6350\n",
       "4    itel   6356\n",
       "5    itel   6380\n",
       "6    itel   6399\n",
       "7    itel   6499\n",
       "8    itel   6595\n",
       "9    itel   6600\n",
       "10   itel   6750\n",
       "11   itel   6799\n",
       "12   itel   6880\n",
       "13   itel   6999\n",
       "14   itel   6999\n",
       "15   itel   6999\n",
       "16   itel   7195\n",
       "17   itel   7199\n",
       "18  nokia   7199\n",
       "19  nokia   7199"
      ]
     },
     "execution_count": 436,
     "metadata": {},
     "output_type": "execute_result"
    }
   ],
   "source": [
    "#least expensive phones\n",
    "least_expensive_phones=jumia2[['brand','Price']].sort_values('Price',ascending=True).head(20)\n",
    "least_expensive_phones=least_expensive_phones.reset_index(drop=True)\n",
    "least_expensive_phones"
   ]
  },
  {
   "cell_type": "code",
   "execution_count": 276,
   "id": "0d52f1d8",
   "metadata": {},
   "outputs": [
    {
     "data": {
      "text/plain": [
       "tecno         380\n",
       "samsung       298\n",
       "xiaomi        215\n",
       "infinix       165\n",
       "oppo           97\n",
       "nokia          70\n",
       "itel           61\n",
       "realme         56\n",
       "huawei         40\n",
       "apple          31\n",
       "vivo           12\n",
       "blackview      12\n",
       "xiaomipoco      7\n",
       "poco            4\n",
       "Name: brand, dtype: int64"
      ]
     },
     "execution_count": 276,
     "metadata": {},
     "output_type": "execute_result"
    }
   ],
   "source": [
    "#available phone brands\n",
    "most_available_brand=jumia2['brand'].value_counts()\n",
    "#most_available_brand.drop('',inplace=True)\n",
    "most_available_brand"
   ]
  },
  {
   "cell_type": "code",
   "execution_count": 281,
   "id": "3b550ae9",
   "metadata": {},
   "outputs": [
    {
     "data": {
      "image/png": "[encoded data removed]",
      "text/plain": [
       "<Figure size 1008x576 with 1 Axes>"
      ]
     },
     "metadata": {
      "needs_background": "light"
     },
     "output_type": "display_data"
    }
   ],
   "source": [
    "#plotting most available brands\n",
    "plt.figure(figsize=(14,8))\n",
    "most_available_brand.plot.bar(color='dodgerblue')\n",
    "plt.title('Brands Most Available',fontsize=18)\n",
    "plt.xlabel('Brand',fontsize=15)\n",
    "plt.xticks(rotation=0)\n",
    "plt.show()"
   ]
  },
  {
   "cell_type": "code",
   "execution_count": 448,
   "id": "c48c1ec0",
   "metadata": {},
   "outputs": [
    {
     "data": {
      "text/html": [
       "<div>\n",
       "<style scoped>\n",
       "    .dataframe tbody tr th:only-of-type {\n",
       "        vertical-align: middle;\n",
       "    }\n",
       "\n",
       "    .dataframe tbody tr th {\n",
       "        vertical-align: top;\n",
       "    }\n",
       "\n",
       "    .dataframe thead th {\n",
       "        text-align: right;\n",
       "    }\n",
       "</style>\n",
       "<table border=\"1\" class=\"dataframe\">\n",
       "  <thead>\n",
       "    <tr style=\"text-align: right;\">\n",
       "      <th></th>\n",
       "      <th>Price</th>\n",
       "    </tr>\n",
       "    <tr>\n",
       "      <th>ram_space2</th>\n",
       "      <th></th>\n",
       "    </tr>\n",
       "  </thead>\n",
       "  <tbody>\n",
       "    <tr>\n",
       "      <th>12gb</th>\n",
       "      <td>93535.000000</td>\n",
       "    </tr>\n",
       "    <tr>\n",
       "      <th>8gb</th>\n",
       "      <td>39816.548387</td>\n",
       "    </tr>\n",
       "    <tr>\n",
       "      <th>6gb</th>\n",
       "      <td>36066.715976</td>\n",
       "    </tr>\n",
       "    <tr>\n",
       "      <th>4gb</th>\n",
       "      <td>20051.776271</td>\n",
       "    </tr>\n",
       "    <tr>\n",
       "      <th>3gb</th>\n",
       "      <td>15726.190000</td>\n",
       "    </tr>\n",
       "    <tr>\n",
       "      <th>2gb</th>\n",
       "      <td>12066.245223</td>\n",
       "    </tr>\n",
       "    <tr>\n",
       "      <th>1gb</th>\n",
       "      <td>7983.976190</td>\n",
       "    </tr>\n",
       "  </tbody>\n",
       "</table>\n",
       "</div>"
      ],
      "text/plain": [
       "                   Price\n",
       "ram_space2              \n",
       "12gb        93535.000000\n",
       "8gb         39816.548387\n",
       "6gb         36066.715976\n",
       "4gb         20051.776271\n",
       "3gb         15726.190000\n",
       "2gb         12066.245223\n",
       "1gb          7983.976190"
      ]
     },
     "execution_count": 448,
     "metadata": {},
     "output_type": "execute_result"
    }
   ],
   "source": [
    "#average price by RAM size of a phone\n",
    "avg_ram_price=jumia2.groupby('ram_space2')['Price'].mean().to_frame()\n",
    "avg_ram_price.sort_values('Price',ascending=False,inplace=True)\n",
    "#avg_ram_price.drop('',inplace=True)\n",
    "avg_ram_price"
   ]
  },
  {
   "cell_type": "code",
   "execution_count": 450,
   "id": "806958f6",
   "metadata": {},
   "outputs": [
    {
     "data": {
      "text/plain": [
       "<Figure size 864x576 with 0 Axes>"
      ]
     },
     "metadata": {},
     "output_type": "display_data"
    },
    {
     "data": {
      "image/png": "[encoded data removed]",
      "text/plain": [
       "<Figure size 432x288 with 1 Axes>"
      ]
     },
     "metadata": {
      "needs_background": "light"
     },
     "output_type": "display_data"
    }
   ],
   "source": [
    "plt.figure(figsize=(12,8));\n",
    "avg_ram_price.plot.bar(color='dodgerblue');\n",
    "plt.title('Average price by RAM size',fontsize=16)\n",
    "plt.xlabel('RAM',fontsize=12)\n",
    "plt.xticks(rotation=0)\n",
    "plt.ticklabel_format(style='plain',axis='y')\n",
    "plt.show();"
   ]
  },
  {
   "cell_type": "code",
   "execution_count": 451,
   "id": "885273be",
   "metadata": {},
   "outputs": [
    {
     "data": {
      "text/html": [
       "<div>\n",
       "<style scoped>\n",
       "    .dataframe tbody tr th:only-of-type {\n",
       "        vertical-align: middle;\n",
       "    }\n",
       "\n",
       "    .dataframe tbody tr th {\n",
       "        vertical-align: top;\n",
       "    }\n",
       "\n",
       "    .dataframe thead th {\n",
       "        text-align: right;\n",
       "    }\n",
       "</style>\n",
       "<table border=\"1\" class=\"dataframe\">\n",
       "  <thead>\n",
       "    <tr style=\"text-align: right;\">\n",
       "      <th></th>\n",
       "      <th>Name</th>\n",
       "      <th>Price</th>\n",
       "      <th>brand</th>\n",
       "      <th>ram_space2</th>\n",
       "      <th>storage</th>\n",
       "      <th>battery</th>\n",
       "      <th>screen</th>\n",
       "      <th>screen2</th>\n",
       "    </tr>\n",
       "  </thead>\n",
       "  <tbody>\n",
       "    <tr>\n",
       "      <th>0</th>\n",
       "      <td>Infinix Smart 6, 6.6\", 2GB RAM, 32GB, 5000mAh,...</td>\n",
       "      <td>9999</td>\n",
       "      <td>infinix</td>\n",
       "      <td>2gb</td>\n",
       "      <td>32gb</td>\n",
       "      <td>5000mah</td>\n",
       "      <td>6.6</td>\n",
       "      <td>6.6</td>\n",
       "    </tr>\n",
       "    <tr>\n",
       "      <th>1</th>\n",
       "      <td>XIAOMI Redmi A1+, 6.52\", 2GB+32GB, 8.0MP, 5000...</td>\n",
       "      <td>8999</td>\n",
       "      <td>xiaomi</td>\n",
       "      <td>2gb</td>\n",
       "      <td>32gb</td>\n",
       "      <td>5000mah</td>\n",
       "      <td>6.528.0</td>\n",
       "      <td>6.52</td>\n",
       "    </tr>\n",
       "    <tr>\n",
       "      <th>2</th>\n",
       "      <td>XIAOMI Redmi 10A, 6.53\", 3GB+64GB, 13.0MP, 500...</td>\n",
       "      <td>12999</td>\n",
       "      <td>xiaomi</td>\n",
       "      <td>3gb</td>\n",
       "      <td>64gb</td>\n",
       "      <td>5000mah</td>\n",
       "      <td>6.5313.0</td>\n",
       "      <td>6.53</td>\n",
       "    </tr>\n",
       "    <tr>\n",
       "      <th>3</th>\n",
       "      <td>Infinix Smart 6, 6.6\", 32GB + 2GB RAM (Dual SI...</td>\n",
       "      <td>9799</td>\n",
       "      <td>infinix</td>\n",
       "      <td>2gb</td>\n",
       "      <td>32gb</td>\n",
       "      <td>5000mah</td>\n",
       "      <td>6.6</td>\n",
       "      <td>6.6</td>\n",
       "    </tr>\n",
       "    <tr>\n",
       "      <th>4</th>\n",
       "      <td>Tecno Spark 8P, 6.6\", 64GB + 4GB RAM (Dual SIM...</td>\n",
       "      <td>13830</td>\n",
       "      <td>tecno</td>\n",
       "      <td>4gb</td>\n",
       "      <td>64gb</td>\n",
       "      <td>5000mah</td>\n",
       "      <td>6.6</td>\n",
       "      <td>6.6</td>\n",
       "    </tr>\n",
       "  </tbody>\n",
       "</table>\n",
       "</div>"
      ],
      "text/plain": [
       "                                                Name  Price    brand  \\\n",
       "0  Infinix Smart 6, 6.6\", 2GB RAM, 32GB, 5000mAh,...   9999  infinix   \n",
       "1  XIAOMI Redmi A1+, 6.52\", 2GB+32GB, 8.0MP, 5000...   8999   xiaomi   \n",
       "2  XIAOMI Redmi 10A, 6.53\", 3GB+64GB, 13.0MP, 500...  12999   xiaomi   \n",
       "3  Infinix Smart 6, 6.6\", 32GB + 2GB RAM (Dual SI...   9799  infinix   \n",
       "4  Tecno Spark 8P, 6.6\", 64GB + 4GB RAM (Dual SIM...  13830    tecno   \n",
       "\n",
       "  ram_space2 storage  battery    screen screen2  \n",
       "0        2gb    32gb  5000mah       6.6     6.6  \n",
       "1        2gb    32gb  5000mah   6.528.0    6.52  \n",
       "2        3gb    64gb  5000mah  6.5313.0    6.53  \n",
       "3        2gb    32gb  5000mah       6.6     6.6  \n",
       "4        4gb    64gb  5000mah       6.6     6.6  "
      ]
     },
     "execution_count": 451,
     "metadata": {},
     "output_type": "execute_result"
    }
   ],
   "source": [
    "jumia2.head()"
   ]
  },
  {
   "cell_type": "code",
   "execution_count": 452,
   "id": "f81d0d43",
   "metadata": {},
   "outputs": [
    {
     "data": {
      "text/plain": [
       "128gb    543\n",
       "64gb     434\n",
       "32gb     266\n",
       "16gb      89\n",
       "256gb     83\n",
       "Name: storage, dtype: int64"
      ]
     },
     "execution_count": 452,
     "metadata": {},
     "output_type": "execute_result"
    }
   ],
   "source": [
    "#most common rom\n",
    "most_common_rom=jumia2.storage.value_counts().head()\n",
    "most_common_rom"
   ]
  },
  {
   "cell_type": "code",
   "execution_count": 453,
   "id": "d3e6405f",
   "metadata": {},
   "outputs": [
    {
     "data": {
      "image/png": "[encoded data removed]",
      "text/plain": [
       "<Figure size 720x432 with 1 Axes>"
      ]
     },
     "metadata": {
      "needs_background": "light"
     },
     "output_type": "display_data"
    }
   ],
   "source": [
    "plt.figure(figsize=(10,6))\n",
    "most_common_rom.plot.bar(color='dodgerblue')\n",
    "plt.title(\"Most Common ROM\")\n",
    "plt.xlabel('CPU',fontsize=15)\n",
    "plt.xticks(rotation=0)\n",
    "plt.show()"
   ]
  },
  {
   "cell_type": "code",
   "execution_count": 282,
   "id": "1a447b07",
   "metadata": {},
   "outputs": [
    {
     "data": {
      "text/html": [
       "<div>\n",
       "<style scoped>\n",
       "    .dataframe tbody tr th:only-of-type {\n",
       "        vertical-align: middle;\n",
       "    }\n",
       "\n",
       "    .dataframe tbody tr th {\n",
       "        vertical-align: top;\n",
       "    }\n",
       "\n",
       "    .dataframe thead th {\n",
       "        text-align: right;\n",
       "    }\n",
       "</style>\n",
       "<table border=\"1\" class=\"dataframe\">\n",
       "  <thead>\n",
       "    <tr style=\"text-align: right;\">\n",
       "      <th></th>\n",
       "      <th>Price</th>\n",
       "    </tr>\n",
       "    <tr>\n",
       "      <th>brand</th>\n",
       "      <th></th>\n",
       "    </tr>\n",
       "  </thead>\n",
       "  <tbody>\n",
       "    <tr>\n",
       "      <th>apple</th>\n",
       "      <td>85979.483871</td>\n",
       "    </tr>\n",
       "    <tr>\n",
       "      <th>oppo</th>\n",
       "      <td>27976.443299</td>\n",
       "    </tr>\n",
       "    <tr>\n",
       "      <th>samsung</th>\n",
       "      <td>26243.285235</td>\n",
       "    </tr>\n",
       "    <tr>\n",
       "      <th>poco</th>\n",
       "      <td>23824.250000</td>\n",
       "    </tr>\n",
       "    <tr>\n",
       "      <th>xiaomi</th>\n",
       "      <td>20996.246512</td>\n",
       "    </tr>\n",
       "    <tr>\n",
       "      <th>realme</th>\n",
       "      <td>18876.517857</td>\n",
       "    </tr>\n",
       "    <tr>\n",
       "      <th>huawei</th>\n",
       "      <td>18411.450000</td>\n",
       "    </tr>\n",
       "    <tr>\n",
       "      <th>xiaomipoco</th>\n",
       "      <td>17999.000000</td>\n",
       "    </tr>\n",
       "    <tr>\n",
       "      <th>infinix</th>\n",
       "      <td>17646.406061</td>\n",
       "    </tr>\n",
       "    <tr>\n",
       "      <th>tecno</th>\n",
       "      <td>17483.378947</td>\n",
       "    </tr>\n",
       "    <tr>\n",
       "      <th>vivo</th>\n",
       "      <td>17404.500000</td>\n",
       "    </tr>\n",
       "    <tr>\n",
       "      <th>nokia</th>\n",
       "      <td>17001.157143</td>\n",
       "    </tr>\n",
       "    <tr>\n",
       "      <th>blackview</th>\n",
       "      <td>12991.166667</td>\n",
       "    </tr>\n",
       "    <tr>\n",
       "      <th>itel</th>\n",
       "      <td>8388.983607</td>\n",
       "    </tr>\n",
       "  </tbody>\n",
       "</table>\n",
       "</div>"
      ],
      "text/plain": [
       "                   Price\n",
       "brand                   \n",
       "apple       85979.483871\n",
       "oppo        27976.443299\n",
       "samsung     26243.285235\n",
       "poco        23824.250000\n",
       "xiaomi      20996.246512\n",
       "realme      18876.517857\n",
       "huawei      18411.450000\n",
       "xiaomipoco  17999.000000\n",
       "infinix     17646.406061\n",
       "tecno       17483.378947\n",
       "vivo        17404.500000\n",
       "nokia       17001.157143\n",
       "blackview   12991.166667\n",
       "itel         8388.983607"
      ]
     },
     "execution_count": 282,
     "metadata": {},
     "output_type": "execute_result"
    }
   ],
   "source": [
    "#average price of each phone brand\n",
    "avg_brand_price=jumia2.groupby('brand')['Price'].mean().to_frame()\n",
    "avg_brand_price.sort_values('Price',ascending=False,inplace=True)\n",
    "#avg_brand_price.drop('',inplace=True)\n",
    "avg_brand_price"
   ]
  },
  {
   "cell_type": "code",
   "execution_count": 289,
   "id": "956cdc1e",
   "metadata": {},
   "outputs": [
    {
     "data": {
      "text/plain": [
       "<Figure size 720x432 with 0 Axes>"
      ]
     },
     "metadata": {},
     "output_type": "display_data"
    },
    {
     "data": {
      "image/png": "[encoded data removed]",
      "text/plain": [
       "<Figure size 432x288 with 1 Axes>"
      ]
     },
     "metadata": {
      "needs_background": "light"
     },
     "output_type": "display_data"
    }
   ],
   "source": [
    "plt.figure(figsize=(10,6))\n",
    "avg_brand_price.plot.bar(color='dodgerblue')\n",
    "plt.title('Average Price by Brand',fontsize=18)\n",
    "plt.xlabel('Brand',fontsize=14)\n",
    "plt.ylabel('Price',fontsize=14)\n",
    "plt.xticks(rotation=45)\n",
    "plt.ticklabel_format(style='plain',axis='y')\n",
    "plt.show()"
   ]
  },
  {
   "cell_type": "code",
   "execution_count": 464,
   "id": "047bdd58",
   "metadata": {},
   "outputs": [
    {
     "data": {
      "text/plain": [
       "dtype('float64')"
      ]
     },
     "execution_count": 464,
     "metadata": {},
     "output_type": "execute_result"
    }
   ],
   "source": [
    "#average screen size for each brand\n",
    "#first convert the screen column into integer\n",
    "jumia2['screen2']=jumia2['screen2'].astype(float)\n",
    "jumia2['screen2'].dtype"
   ]
  },
  {
   "cell_type": "code",
   "execution_count": 465,
   "id": "cb857d89",
   "metadata": {},
   "outputs": [
    {
     "data": {
      "text/html": [
       "<div>\n",
       "<style scoped>\n",
       "    .dataframe tbody tr th:only-of-type {\n",
       "        vertical-align: middle;\n",
       "    }\n",
       "\n",
       "    .dataframe tbody tr th {\n",
       "        vertical-align: top;\n",
       "    }\n",
       "\n",
       "    .dataframe thead th {\n",
       "        text-align: right;\n",
       "    }\n",
       "</style>\n",
       "<table border=\"1\" class=\"dataframe\">\n",
       "  <thead>\n",
       "    <tr style=\"text-align: right;\">\n",
       "      <th></th>\n",
       "      <th>screen2</th>\n",
       "    </tr>\n",
       "    <tr>\n",
       "      <th>brand</th>\n",
       "      <th></th>\n",
       "    </tr>\n",
       "  </thead>\n",
       "  <tbody>\n",
       "    <tr>\n",
       "      <th>blackview</th>\n",
       "      <td>8.807500</td>\n",
       "    </tr>\n",
       "    <tr>\n",
       "      <th>infinix</th>\n",
       "      <td>6.695828</td>\n",
       "    </tr>\n",
       "    <tr>\n",
       "      <th>realme</th>\n",
       "      <td>6.606038</td>\n",
       "    </tr>\n",
       "    <tr>\n",
       "      <th>xiaomipoco</th>\n",
       "      <td>6.580000</td>\n",
       "    </tr>\n",
       "    <tr>\n",
       "      <th>samsung</th>\n",
       "      <td>6.543902</td>\n",
       "    </tr>\n",
       "    <tr>\n",
       "      <th>xiaomi</th>\n",
       "      <td>6.542115</td>\n",
       "    </tr>\n",
       "    <tr>\n",
       "      <th>vivo</th>\n",
       "      <td>6.536364</td>\n",
       "    </tr>\n",
       "    <tr>\n",
       "      <th>tecno</th>\n",
       "      <td>6.504444</td>\n",
       "    </tr>\n",
       "    <tr>\n",
       "      <th>oppo</th>\n",
       "      <td>6.479889</td>\n",
       "    </tr>\n",
       "    <tr>\n",
       "      <th>nokia</th>\n",
       "      <td>6.376324</td>\n",
       "    </tr>\n",
       "    <tr>\n",
       "      <th>huawei</th>\n",
       "      <td>6.336129</td>\n",
       "    </tr>\n",
       "    <tr>\n",
       "      <th>poco</th>\n",
       "      <td>6.263333</td>\n",
       "    </tr>\n",
       "    <tr>\n",
       "      <th>apple</th>\n",
       "      <td>5.988889</td>\n",
       "    </tr>\n",
       "    <tr>\n",
       "      <th>itel</th>\n",
       "      <td>5.780328</td>\n",
       "    </tr>\n",
       "  </tbody>\n",
       "</table>\n",
       "</div>"
      ],
      "text/plain": [
       "             screen2\n",
       "brand               \n",
       "blackview   8.807500\n",
       "infinix     6.695828\n",
       "realme      6.606038\n",
       "xiaomipoco  6.580000\n",
       "samsung     6.543902\n",
       "xiaomi      6.542115\n",
       "vivo        6.536364\n",
       "tecno       6.504444\n",
       "oppo        6.479889\n",
       "nokia       6.376324\n",
       "huawei      6.336129\n",
       "poco        6.263333\n",
       "apple       5.988889\n",
       "itel        5.780328"
      ]
     },
     "execution_count": 465,
     "metadata": {},
     "output_type": "execute_result"
    }
   ],
   "source": [
    "avg_screen_size=jumia2.groupby('brand')['screen2'].mean().to_frame()\n",
    "avg_screen_size.sort_values('screen2',ascending=False,inplace=True)\n",
    "avg_screen_size"
   ]
  },
  {
   "cell_type": "code",
   "execution_count": 467,
   "id": "5cd51627",
   "metadata": {},
   "outputs": [
    {
     "data": {
      "text/plain": [
       "<Figure size 720x432 with 0 Axes>"
      ]
     },
     "metadata": {},
     "output_type": "display_data"
    },
    {
     "data": {
      "image/png": "[encoded data removed]",
      "text/plain": [
       "<Figure size 432x288 with 1 Axes>"
      ]
     },
     "metadata": {
      "needs_background": "light"
     },
     "output_type": "display_data"
    }
   ],
   "source": [
    "plt.figure(figsize=(10,6))\n",
    "avg_screen_size.plot.bar(color='dodgerblue')\n",
    "plt.title('Average Screen Size by Brand',fontsize=18)\n",
    "plt.xlabel('Brand',fontsize=14)\n",
    "plt.ylabel('Screen Size',fontsize=14)\n",
    "plt.xticks(rotation=45)\n",
    "plt.ticklabel_format(style='plain',axis='y')\n",
    "plt.show()"
   ]
  },
  {
   "cell_type": "code",
   "execution_count": null,
   "id": "4296c22a",
   "metadata": {},
   "outputs": [],
   "source": [
    "#"
   ]
  },
  {
   "cell_type": "code",
   "execution_count": 469,
   "id": "e52bb13e",
   "metadata": {},
   "outputs": [
    {
     "data": {
      "text/html": [
       "<div>\n",
       "<style scoped>\n",
       "    .dataframe tbody tr th:only-of-type {\n",
       "        vertical-align: middle;\n",
       "    }\n",
       "\n",
       "    .dataframe tbody tr th {\n",
       "        vertical-align: top;\n",
       "    }\n",
       "\n",
       "    .dataframe thead th {\n",
       "        text-align: right;\n",
       "    }\n",
       "</style>\n",
       "<table border=\"1\" class=\"dataframe\">\n",
       "  <thead>\n",
       "    <tr style=\"text-align: right;\">\n",
       "      <th></th>\n",
       "      <th>battery</th>\n",
       "    </tr>\n",
       "  </thead>\n",
       "  <tbody>\n",
       "    <tr>\n",
       "      <th>5000mah</th>\n",
       "      <td>744</td>\n",
       "    </tr>\n",
       "    <tr>\n",
       "      <th>6000mah</th>\n",
       "      <td>94</td>\n",
       "    </tr>\n",
       "    <tr>\n",
       "      <th>4000mah</th>\n",
       "      <td>59</td>\n",
       "    </tr>\n",
       "    <tr>\n",
       "      <th>4500mah</th>\n",
       "      <td>29</td>\n",
       "    </tr>\n",
       "    <tr>\n",
       "      <th>4230mah</th>\n",
       "      <td>17</td>\n",
       "    </tr>\n",
       "    <tr>\n",
       "      <th>5050mah</th>\n",
       "      <td>16</td>\n",
       "    </tr>\n",
       "    <tr>\n",
       "      <th>3020mah</th>\n",
       "      <td>10</td>\n",
       "    </tr>\n",
       "    <tr>\n",
       "      <th>2400mah</th>\n",
       "      <td>8</td>\n",
       "    </tr>\n",
       "    <tr>\n",
       "      <th>4323mah</th>\n",
       "      <td>5</td>\n",
       "    </tr>\n",
       "    <tr>\n",
       "      <th>3000mah</th>\n",
       "      <td>5</td>\n",
       "    </tr>\n",
       "    <tr>\n",
       "      <th>2500mah</th>\n",
       "      <td>2</td>\n",
       "    </tr>\n",
       "    <tr>\n",
       "      <th>3240mah</th>\n",
       "      <td>2</td>\n",
       "    </tr>\n",
       "    <tr>\n",
       "      <th>4750mah</th>\n",
       "      <td>2</td>\n",
       "    </tr>\n",
       "    <tr>\n",
       "      <th>4,020mah</th>\n",
       "      <td>1</td>\n",
       "    </tr>\n",
       "  </tbody>\n",
       "</table>\n",
       "</div>"
      ],
      "text/plain": [
       "          battery\n",
       "5000mah       744\n",
       "6000mah        94\n",
       "4000mah        59\n",
       "4500mah        29\n",
       "4230mah        17\n",
       "5050mah        16\n",
       "3020mah        10\n",
       "2400mah         8\n",
       "4323mah         5\n",
       "3000mah         5\n",
       "2500mah         2\n",
       "3240mah         2\n",
       "4750mah         2\n",
       "4,020mah        1"
      ]
     },
     "execution_count": 469,
     "metadata": {},
     "output_type": "execute_result"
    }
   ],
   "source": [
    "#most common battery size\n",
    "battery_size=jumia2['battery'].value_counts().to_frame()\n",
    "battery_size"
   ]
  },
  {
   "cell_type": "code",
   "execution_count": 472,
   "id": "54c99a1c",
   "metadata": {},
   "outputs": [
    {
     "data": {
      "text/plain": [
       "<Figure size 1008x576 with 0 Axes>"
      ]
     },
     "metadata": {},
     "output_type": "display_data"
    },
    {
     "data": {
      "image/png": "[encoded data removed]",
      "text/plain": [
       "<Figure size 432x288 with 1 Axes>"
      ]
     },
     "metadata": {
      "needs_background": "light"
     },
     "output_type": "display_data"
    }
   ],
   "source": [
    "#specify figure size\n",
    "plt.figure(figsize=(14,8))\n",
    "#the actual plotting\n",
    "battery_size.plot.bar(color='dodgerblue')\n",
    "#title and labels\n",
    "plt.title('Battery Size of Phones')\n",
    "plt.xlabel('Battery Capacity',fontsize=14)\n",
    "plt.ylabel('Frequency',fontsize=14)\n",
    "plt.xticks(rotation=45)\n",
    "plt.ticklabel_format(style='plain',axis='y')\n",
    "#show the plot\n",
    "plt.show()"
   ]
  },
  {
   "cell_type": "code",
   "execution_count": 461,
   "id": "6eb2131a",
   "metadata": {},
   "outputs": [
    {
     "data": {
      "text/html": [
       "<div>\n",
       "<style scoped>\n",
       "    .dataframe tbody tr th:only-of-type {\n",
       "        vertical-align: middle;\n",
       "    }\n",
       "\n",
       "    .dataframe tbody tr th {\n",
       "        vertical-align: top;\n",
       "    }\n",
       "\n",
       "    .dataframe thead th {\n",
       "        text-align: right;\n",
       "    }\n",
       "</style>\n",
       "<table border=\"1\" class=\"dataframe\">\n",
       "  <thead>\n",
       "    <tr style=\"text-align: right;\">\n",
       "      <th></th>\n",
       "      <th>screen3</th>\n",
       "    </tr>\n",
       "  </thead>\n",
       "  <tbody>\n",
       "    <tr>\n",
       "      <th>6.5</th>\n",
       "      <td>425</td>\n",
       "    </tr>\n",
       "    <tr>\n",
       "      <th>6.6</th>\n",
       "      <td>406</td>\n",
       "    </tr>\n",
       "    <tr>\n",
       "      <th>6.8</th>\n",
       "      <td>171</td>\n",
       "    </tr>\n",
       "    <tr>\n",
       "      <th>6.4</th>\n",
       "      <td>117</td>\n",
       "    </tr>\n",
       "    <tr>\n",
       "      <th>6.7</th>\n",
       "      <td>71</td>\n",
       "    </tr>\n",
       "    <tr>\n",
       "      <th>6.1</th>\n",
       "      <td>33</td>\n",
       "    </tr>\n",
       "    <tr>\n",
       "      <th>6</th>\n",
       "      <td>31</td>\n",
       "    </tr>\n",
       "    <tr>\n",
       "      <th>5.5</th>\n",
       "      <td>25</td>\n",
       "    </tr>\n",
       "    <tr>\n",
       "      <th>5.4</th>\n",
       "      <td>18</td>\n",
       "    </tr>\n",
       "    <tr>\n",
       "      <th>5.7</th>\n",
       "      <td>15</td>\n",
       "    </tr>\n",
       "    <tr>\n",
       "      <th>5</th>\n",
       "      <td>11</td>\n",
       "    </tr>\n",
       "    <tr>\n",
       "      <th>5.0</th>\n",
       "      <td>11</td>\n",
       "    </tr>\n",
       "    <tr>\n",
       "      <th>5.8</th>\n",
       "      <td>8</td>\n",
       "    </tr>\n",
       "    <tr>\n",
       "      <th>6.2</th>\n",
       "      <td>8</td>\n",
       "    </tr>\n",
       "    <tr>\n",
       "      <th>10.</th>\n",
       "      <td>8</td>\n",
       "    </tr>\n",
       "    <tr>\n",
       "      <th>6.3</th>\n",
       "      <td>7</td>\n",
       "    </tr>\n",
       "    <tr>\n",
       "      <th>6.9</th>\n",
       "      <td>5</td>\n",
       "    </tr>\n",
       "    <tr>\n",
       "      <th>8.7</th>\n",
       "      <td>5</td>\n",
       "    </tr>\n",
       "    <tr>\n",
       "      <th>6.0</th>\n",
       "      <td>4</td>\n",
       "    </tr>\n",
       "    <tr>\n",
       "      <th>12.</th>\n",
       "      <td>2</td>\n",
       "    </tr>\n",
       "    <tr>\n",
       "      <th>5.9</th>\n",
       "      <td>2</td>\n",
       "    </tr>\n",
       "    <tr>\n",
       "      <th>1.3</th>\n",
       "      <td>1</td>\n",
       "    </tr>\n",
       "    <tr>\n",
       "      <th>5.2</th>\n",
       "      <td>1</td>\n",
       "    </tr>\n",
       "    <tr>\n",
       "      <th>1.0</th>\n",
       "      <td>1</td>\n",
       "    </tr>\n",
       "  </tbody>\n",
       "</table>\n",
       "</div>"
      ],
      "text/plain": [
       "     screen3\n",
       "6.5      425\n",
       "6.6      406\n",
       "6.8      171\n",
       "6.4      117\n",
       "6.7       71\n",
       "6.1       33\n",
       "6         31\n",
       "5.5       25\n",
       "5.4       18\n",
       "5.7       15\n",
       "5         11\n",
       "5.0       11\n",
       "5.8        8\n",
       "6.2        8\n",
       "10.        8\n",
       "6.3        7\n",
       "6.9        5\n",
       "8.7        5\n",
       "6.0        4\n",
       "12.        2\n",
       "5.9        2\n",
       "1.3        1\n",
       "5.2        1\n",
       "1.0        1"
      ]
     },
     "execution_count": 461,
     "metadata": {},
     "output_type": "execute_result"
    }
   ],
   "source": [
    "#most common screen size\n",
    "screen_size=jumia2['screen3'].value_counts().to_frame()\n",
    "screen_size"
   ]
  },
  {
   "cell_type": "code",
   "execution_count": 475,
   "id": "be7b0695",
   "metadata": {},
   "outputs": [
    {
     "data": {
      "text/plain": [
       "<Figure size 1296x720 with 0 Axes>"
      ]
     },
     "metadata": {},
     "output_type": "display_data"
    },
    {
     "data": {
      "image/png": "[encoded data removed]",
      "text/plain": [
       "<Figure size 432x288 with 1 Axes>"
      ]
     },
     "metadata": {
      "needs_background": "light"
     },
     "output_type": "display_data"
    }
   ],
   "source": [
    "plt.figure(figsize=(18,10))\n",
    "screen_size.plot.bar(color=\"dodgerblue\")\n",
    "plt.title(\"Different Screen Sizes\",fontsize=18)\n",
    "plt.xlabel('Battery Size',fontsize=14)\n",
    "plt.ylabel('Frequency',fontsize=14)\n",
    "plt.xticks(rotation=45)\n",
    "plt.ticklabel_format(style='plain',axis='y')\n",
    "plt.show()"
   ]
  },
  {
   "cell_type": "code",
   "execution_count": null,
   "id": "5c298637",
   "metadata": {},
   "outputs": [],
   "source": []
  }
 ],
 "metadata": {
  "kernelspec": {
   "display_name": "Python 3",
   "language": "python",
   "name": "python3"
  },
  "language_info": {
   "codemirror_mode": {
    "name": "ipython",
    "version": 3
   },
   "file_extension": ".py",
   "mimetype": "text/x-python",
   "name": "python",
   "nbconvert_exporter": "python",
   "pygments_lexer": "ipython3",
   "version": "3.8.8"
  }
 },
 "nbformat": 4,
 "nbformat_minor": 5
}
